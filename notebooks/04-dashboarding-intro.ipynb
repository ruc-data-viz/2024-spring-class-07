{
 "cells": [
  {
   "cell_type": "markdown",
   "id": "41678fe1-0dcd-4dd4-8771-86dc0b190655",
   "metadata": {},
   "source": [
    "# Dashboards\n",
    "\n",
    "In our last lecture we briefly looked over some of the web-based technologies for generating interactive elements. We specifically looked at `hvPlot` and `panel`. The former provides a separate but very similar plotting interface from `pandas` that provides us with many convenient add-ons. The latter allows us to create interactive widgets that we can use to control and modify our visualizations. Both of these tools are mostly built on top of `bokeh`, a web-based visualization library.\n",
    "\n",
    "In this notebook we will look at more example of how we can start constructing basic dashboards with `bokeh`/`hvPlot`/`holoviews` and `panel`."
   ]
  },
  {
   "cell_type": "markdown",
   "id": "04141193-eea6-4449-8df6-2f160fe805af",
   "metadata": {},
   "source": [
    "## Imports\n",
    "\n",
    "First thing we need to so is import a few things to get started:"
   ]
  },
  {
   "cell_type": "code",
   "execution_count": null,
   "id": "6b0b0781-8f11-4977-8f15-fc47950cde30",
   "metadata": {},
   "outputs": [],
   "source": [
    "import hvplot.pandas  # for plotting from data frames\n",
    "import numpy as np  # for data generation\n",
    "import pandas as pd  # for data frames\n",
    "import panel as pn  # for interactive widgets"
   ]
  },
  {
   "cell_type": "markdown",
   "id": "7dc4d867-751a-4769-8f3a-b1b47ede15f5",
   "metadata": {},
   "source": [
    "note that we do not need to import `bokeh` explicitly - `hvplot` and `panel` handle all of this for us! We may need to use `bokeh` directly, but for now we do not."
   ]
  },
  {
   "cell_type": "markdown",
   "id": "b569bca9-90dd-49f4-8707-bc9c63106ff2",
   "metadata": {},
   "source": [
    "## Generating Data"
   ]
  },
  {
   "cell_type": "markdown",
   "id": "55177e5a-7976-41d4-ba12-5c0411b8871b",
   "metadata": {},
   "source": [
    "Now we need to work with some data! We are just going to randomly generate some basic data that consists of a label, an id (x value) and a value (y value). We want data that is basic enough for a scatter plot, but also clearly groupable (in our case, the label). We also ensure that the x values across the entire set are already sorted and uniformly distributed."
   ]
  },
  {
   "cell_type": "code",
   "execution_count": null,
   "id": "cd456740-3973-480c-a13a-29ec499a2f08",
   "metadata": {},
   "outputs": [],
   "source": [
    "rng = np.random.RandomState(\n",
    "    13337\n",
    ")  # create state for random number generator for consistency\n",
    "data = pd.DataFrame(\n",
    "    {  # create a DataFrame from a dictionary\n",
    "        \"label\": rng.choice(  # create the label column by randomly selecting values\n",
    "            a=[\n",
    "                \"foo\",\n",
    "                \"bar\",\n",
    "                \"baz\",\n",
    "            ],  # from the list (given to a) 100 times, using the\n",
    "            p=[0.5, 0.35, 0.15],  # probablities/weights given for each\n",
    "            size=100,\n",
    "        ),\n",
    "        \"id\": np.arange(\n",
    "            0, 100, 1\n",
    "        ),  # create the id column by making a list of integers 0-99\n",
    "        \"value\": rng.uniform(\n",
    "            size=100\n",
    "        ),  # create the value column by selecting 100 numbers between 0.0 and 1.0\n",
    "    }\n",
    ")\n",
    "data"
   ]
  },
  {
   "cell_type": "markdown",
   "id": "9afacba9-4868-49e1-b373-276ae417e567",
   "metadata": {},
   "source": [
    "## Widgets\n",
    "\n",
    "We are going to create some widgets that allow us to select labels of data and we will dynamically update our visualization with this data. We also want to provide a threshold filter (we saw something similar last class) to \"disable\" values. The widget we will use for selecting labels is called a `MultiSelect`, and the widget we will use for filtering values is called a `FloatSlider`."
   ]
  },
  {
   "cell_type": "code",
   "execution_count": null,
   "id": "f3bd1ed8-9318-4071-9fa4-76248b340757",
   "metadata": {},
   "outputs": [],
   "source": [
    "label_selector = pn.widgets.MultiSelect(  # create a MultiSelect widget\n",
    "    name=\"Label\",  # name of the widget\n",
    "    options=[\"foo\", \"bar\", \"baz\"],  # options for users to select from\n",
    "    value=[\"foo\", \"bar\", \"baz\"],  # default selections\n",
    ")\n",
    "threshold_slider = pn.widgets.FloatSlider(  # create a FloatSLider\n",
    "    name=\"Threshold\",  # name of the widget\n",
    "    start=0.0,  # lower bound of the slider\n",
    "    end=1.0,  # upper bound of the slider\n",
    "    step=0.01,  # step value\n",
    "    value=1.0,  # default value of the slider\n",
    ")\n",
    "label_selector"
   ]
  },
  {
   "cell_type": "code",
   "execution_count": null,
   "id": "a2769157-9b69-4416-b73f-01e1268daa91",
   "metadata": {},
   "outputs": [],
   "source": [
    "threshold_slider"
   ]
  },
  {
   "cell_type": "markdown",
   "id": "e6f5b1a1-67f6-4733-b451-61badc3e6a4a",
   "metadata": {},
   "source": [
    "In subsequent cells below we are going to be recreating the the widgets in each cell that we would need them. As we will be make multiple plots withe same widgets, we do not want the rendered widgets from one cell to modify the plots from the other cells. This will happen because the state of the widgets will be tied to the state of the plots."
   ]
  },
  {
   "cell_type": "markdown",
   "id": "6d4c7236-1226-4547-84f1-2fae8a05b563",
   "metadata": {},
   "source": [
    "## Connecting Plots & Widgets\n",
    "\n",
    "Now we need to create a function that plots our data. It needs to be a function because as the widgets change they need to reproduce the plot. They can only do this by giving it a set of instructions to carry out, which is exactly what a function is! There are a few different ways we can do this, but we are just going to lean into `panel` to handle this for us using the `interact` functionality.\n",
    "\n",
    "The first thing we need to do is write a function that plots our data using values we expect to give it from our widgets. We have widgets for selecting labels and setting thresholds, and so our function should expect to take two variables - one for each of them. This function should build a mask from the two variables, apply it to the data frame, and then use `hvPlot` to scatter the data.\n",
    "\n",
    "We are going to employ some details we saw last class to ensure that we anchor the limits of our axes."
   ]
  },
  {
   "cell_type": "code",
   "execution_count": null,
   "id": "bc8c3907-2bbd-48a2-a98d-395d783d2eb7",
   "metadata": {},
   "outputs": [],
   "source": [
    "# first define a function that takes in placeholders for our widgets\n",
    "def visualize_data(selections, threshold):\n",
    "    # create the mask by checking which labels are in our selections\n",
    "    # and which values are less than or equal to our threshold\n",
    "    mask = (data.label.isin(selections)) & (data.value <= threshold)\n",
    "\n",
    "    return (\n",
    "        data[mask]\n",
    "        .hvplot.scatter(  # apply the mask and scatter via hvPlot\n",
    "            x=\"id\",  # put the id on the x-axis\n",
    "            y=\"value\",  # put the value on the y-xis\n",
    "            by=\"label\",  # group by labels (i.e. colo by label)\n",
    "        )\n",
    "        .opts(  # further customize the plot via its options (opts)\n",
    "            xlim=(0, 100),  # set the range of the x-axis to 0-100\n",
    "            ylim=(0, 1),  # set the range of the y-axis to 0-1\n",
    "        )\n",
    "    )\n",
    "\n",
    "\n",
    "# repeat our widgets (keeping them on 1 line each for brevity)\n",
    "label_selector = pn.widgets.MultiSelect(\n",
    "    name=\"Label\", options=[\"foo\", \"bar\", \"baz\"], value=[\"foo\", \"bar\", \"baz\"]\n",
    ")\n",
    "threshold_slider = pn.widgets.FloatSlider(\n",
    "    name=\"Threshold\", start=0.0, end=1.0, step=0.01, value=1.0\n",
    ")\n",
    "\n",
    "# use panel to stitch our functions together with our widgets, mapping placeholders to widgets\n",
    "interaction = pn.interact(\n",
    "    visualize_data, selections=label_selector, threshold=threshold_slider\n",
    ")\n",
    "interaction"
   ]
  },
  {
   "cell_type": "markdown",
   "id": "2ce0547c-f6b5-4a08-9458-c30da42dc6d4",
   "metadata": {},
   "source": [
    "The problem here is that if we deselect all of our labels, then not only is there nothing to plot, but `hvPLot` does not like it when it attempts to plot groups of data (as specified by `by='label'` and there is nothing to group. It is generally a good practice to check if there is actual data to plot, and in the case where there is nothing to plot we instead return a *pane* that says so."
   ]
  },
  {
   "cell_type": "code",
   "execution_count": null,
   "id": "d07e5960-3e6b-4518-8172-524ef2df96ad",
   "metadata": {},
   "outputs": [],
   "source": [
    "# updated function\n",
    "def visualize_data(selections, threshold):\n",
    "    mask = (data.label.isin(selections)) & (data.value <= threshold)\n",
    "\n",
    "    # instead of just plotting here, we first check if the mask is too strict\n",
    "    #\n",
    "    # if the dataframe with the mask is empty, then return a message. otherwise\n",
    "    # plot as we did before.\n",
    "    if data[mask].empty:\n",
    "        message = (\n",
    "            \"# No Data to Plot!\\n### Perhaps you filtered too aggressively\"\n",
    "        )\n",
    "        return pn.pane.Markdown(message)\n",
    "    else:\n",
    "        return (\n",
    "            data[mask]\n",
    "            .hvplot.scatter(x=\"id\", y=\"value\", by=\"label\")\n",
    "            .opts(xlim=(0, 100), ylim=(0, 1))\n",
    "        )\n",
    "\n",
    "\n",
    "label_selector = pn.widgets.MultiSelect(\n",
    "    name=\"Label\", options=[\"foo\", \"bar\", \"baz\"], value=[\"foo\", \"bar\", \"baz\"]\n",
    ")\n",
    "threshold_slider = pn.widgets.FloatSlider(\n",
    "    name=\"Threshold\", start=0.0, end=1.0, step=0.01, value=1.0\n",
    ")\n",
    "\n",
    "interaction = pn.interact(\n",
    "    visualize_data, selections=label_selector, threshold=threshold_slider\n",
    ")\n",
    "interaction"
   ]
  },
  {
   "cell_type": "markdown",
   "id": "113689f8-0316-4da5-bb88-c22e61262d2e",
   "metadata": {},
   "source": [
    "A problem here, though this works, is that the colors are not consistent. As we develop interactive displays we need to pay attention to what details should be changing and what details actually are changing. Here `bokeh` (for better or worse) alphabetizes the labels used for grouping the data, and thus depending on the selections different colors are used for different labels.\n",
    "\n",
    "Here we need to rework the scatter a bit, providing it with a color map that maps labels to specific colors. This means that as users provide different selections, the labels retain their specific colors."
   ]
  },
  {
   "cell_type": "code",
   "execution_count": null,
   "id": "e5e18c86-aa4b-4be0-a3df-dc75984a53a4",
   "metadata": {},
   "outputs": [],
   "source": [
    "# create a dictionary that maps label names to colors\n",
    "color_mapper = {\"foo\": \"red\", \"bar\": \"green\", \"baz\": \"blue\"}\n",
    "\n",
    "\n",
    "# updeated function\n",
    "def visualize_data(selections, threshold):\n",
    "    mask = (data.label.isin(selections)) & (data.value <= threshold)\n",
    "    if data[mask].empty:\n",
    "        return pn.pane.Markdown(\n",
    "            \"# No Data to Plot!\\n### Perhaps you filtered too aggressively\"\n",
    "        )\n",
    "    else:\n",
    "        return (\n",
    "            data[mask]\n",
    "            .hvplot.scatter(\n",
    "                x=\"id\",\n",
    "                y=\"value\",\n",
    "                color=\"label\",  # use the color specifier instead of by\n",
    "                cmap=color_mapper,  # provide our dictionary as the colormapper\n",
    "            )\n",
    "            .opts(xlim=(0, 100), ylim=(0, 1))\n",
    "        )\n",
    "\n",
    "\n",
    "label_selector = pn.widgets.MultiSelect(\n",
    "    name=\"Label\", options=[\"foo\", \"bar\", \"baz\"], value=[\"foo\", \"bar\", \"baz\"]\n",
    ")\n",
    "threshold_slider = pn.widgets.FloatSlider(\n",
    "    name=\"Threshold\", start=0.0, end=1.0, step=0.01, value=1.0\n",
    ")\n",
    "\n",
    "interaction = pn.interact(\n",
    "    visualize_data, selections=label_selector, threshold=threshold_slider\n",
    ")\n",
    "interaction"
   ]
  },
  {
   "cell_type": "markdown",
   "id": "8ad72fcb-8ebd-42f3-ba63-221619080a49",
   "metadata": {},
   "source": [
    "### Updating Over Replotting\n",
    "\n",
    "The interactive plots we have produced above all work by applying masks to the data, plotting it, and then returning the plot. This sometimes can be inefficient, especially if producing the plot itself is computationally complex (perhaps due to large data). Instead of replotting, we can simply change what was plotted. This is the equivalent of *moving* paint and changing colors already on a canvas, rather than setting up a new canvas and painting the new image from scratch. Here the performance gains are not noticeable, but there are some really interesting things we can do with this later on.\n",
    "\n",
    "To do this we need to first create out plot via `hvPlot` and save it to a variable. Once we have this variable we can then update its `data` attribute. So long as the new data satisfies all of the restrictions we put in place (e.g. names of columns that we specified) then `hvPlot`/`bokeh` takes care of the rest.\n",
    "\n",
    "Observe below - we create a new variable `scatter` from our use of `hvPlot`, and then inside of `visualize_data` we then update `scatter.data` with the masked data frame before just returning the `scatter` object as it was."
   ]
  },
  {
   "cell_type": "code",
   "execution_count": null,
   "id": "17c4cd57-d7ce-4a00-b6e1-d029af19e4a4",
   "metadata": {},
   "outputs": [],
   "source": [
    "color_mapper = {\"foo\": \"red\", \"bar\": \"green\", \"baz\": \"blue\"}\n",
    "\n",
    "# create our scatter our here and save it to a variable\n",
    "scatter = data.hvplot.scatter(\n",
    "    x=\"id\", y=\"value\", color=\"label\", cmap=color_mapper\n",
    ").opts(xlim=(0, 100), ylim=(0, 1))\n",
    "\n",
    "\n",
    "# updated function\n",
    "def visualize_data(selections, threshold):\n",
    "    mask = (data.label.isin(selections)) & (data.value <= threshold)\n",
    "    if data[mask].empty:\n",
    "        return pn.pane.Markdown(\n",
    "            \"# No Data to Plot!\\n### Perhaps you filtered too aggressively\"\n",
    "        )\n",
    "    else:\n",
    "        scatter.data = data[mask]  # update the data attribute of the scatter\n",
    "        return scatter  # return the scatter\n",
    "\n",
    "\n",
    "label_selector = pn.widgets.MultiSelect(\n",
    "    name=\"Label\", options=[\"foo\", \"bar\", \"baz\"], value=[\"foo\", \"bar\", \"baz\"]\n",
    ")\n",
    "threshold_slider = pn.widgets.FloatSlider(\n",
    "    name=\"Threshold\", start=0.0, end=1.0, step=0.01, value=1.0\n",
    ")\n",
    "\n",
    "interaction = pn.interact(\n",
    "    visualize_data, selections=label_selector, threshold=threshold_slider\n",
    ")\n",
    "interaction"
   ]
  },
  {
   "cell_type": "markdown",
   "id": "1e13465b-df07-4bc1-b07b-401c9c1d4ccf",
   "metadata": {},
   "source": [
    "## Rearranging the Layout\n",
    "\n",
    "The default layout from `panel` is very unlikely to be how you set out to create your interactive visualization. We can however rearrange how the widgets and the plots are all laid out. To understand how to do this we should inspect the `interaction` variable that we have been producing - we can do this by *printing* it instead of letting it render into its widgets and default layout."
   ]
  },
  {
   "cell_type": "code",
   "execution_count": null,
   "id": "85768c94-7873-41fa-93e7-f5a872bb7b68",
   "metadata": {},
   "outputs": [],
   "source": [
    "print(interaction)"
   ]
  },
  {
   "cell_type": "markdown",
   "id": "c4ae54ff-300c-4ef8-a44b-62a1df08d764",
   "metadata": {},
   "source": [
    "By printing the interaction produced by `panel` we can actually see how `panel` lays everything out, and furthermore we can even see that it provides indices for accessing the individual components of the layout. For example let's look at the 0th element fo the 1st index:"
   ]
  },
  {
   "cell_type": "code",
   "execution_count": null,
   "id": "b920f41e-ab91-457a-a419-8cd8d4712538",
   "metadata": {},
   "outputs": [],
   "source": [
    "interaction[1][0]"
   ]
  },
  {
   "cell_type": "markdown",
   "id": "862d8558-30d2-41c4-a9d7-d9fef5a839e1",
   "metadata": {},
   "source": [
    "It is our plot from above! If we modify the widgets above we will see both plots updated. Likewise if we accessed the widgets (in the 0th index) then interacting with them here would modify the plot above. What this ultimately means is that we can simply move our widgets into a new layout, into something that may make more sense. For this example we want to put the plot on top, with the widgets side-by-side underneath. For completeness (and to avoid too many plots updating all at once) we are going to include everything again.\n",
    "\n",
    "We can use a combination of rows and columns to build everything out. We are also going to go a step further and add some additional text to the `panel` layout (similar to our error message when we over-filter):"
   ]
  },
  {
   "cell_type": "code",
   "execution_count": null,
   "id": "8281bf0d-24f4-4856-a1b7-594aa400c7a0",
   "metadata": {},
   "outputs": [],
   "source": [
    "color_mapper = {\"foo\": \"red\", \"bar\": \"green\", \"baz\": \"blue\"}\n",
    "scatter = data.hvplot.scatter(\n",
    "    x=\"id\", y=\"value\", color=\"label\", cmap=color_mapper\n",
    ").opts(xlim=(0, 100), ylim=(0, 1))\n",
    "\n",
    "\n",
    "def visualize_data(selections, threshold):\n",
    "    mask = (data.label.isin(selections)) & (data.value <= threshold)\n",
    "    if data[mask].empty:\n",
    "        return pn.pane.Markdown(\n",
    "            \"# No Data to Plot!\\n### Perhaps you filtered too aggressively\",\n",
    "            height=300,\n",
    "            width=700,\n",
    "        )\n",
    "    else:\n",
    "        scatter.data = data[mask]\n",
    "        return scatter\n",
    "\n",
    "\n",
    "label_selector = pn.widgets.MultiSelect(\n",
    "    name=\"Label\", options=[\"foo\", \"bar\", \"baz\"], value=[\"foo\", \"bar\", \"baz\"]\n",
    ")\n",
    "threshold_slider = pn.widgets.FloatSlider(\n",
    "    name=\"Threshold\", start=0.0, end=1.0, step=0.01, value=1.0\n",
    ")\n",
    "\n",
    "interaction = pn.interact(\n",
    "    visualize_data, selections=label_selector, threshold=threshold_slider\n",
    ")\n",
    "\n",
    "# instead of just returning interaction, we are going to pull it a part a bit and put things back together\n",
    "\n",
    "# we want to add a small header, so we first create some text for that header;\n",
    "# it is going to be implemented as markdown for easy formatting\n",
    "header = \"\"\"### First Micro-dashboard\n",
    "\n",
    "This micro-dashboard shows basic usage of panel's widgets and how we can tie them to visualizations. Select the labels you want to view and apply a threshold to filter values.\n",
    "\"\"\"\n",
    "\n",
    "# create the layout, we are going for something like\n",
    "# _______________\n",
    "# |___header____|\n",
    "# |             |\n",
    "# |    plot     |\n",
    "# |_____________|\n",
    "# |  w1  |  w2  |\n",
    "# |______|______|\n",
    "#\n",
    "#\n",
    "# This layout consists of a single column, with the bottom\n",
    "# element consisting of a row of two elements.\n",
    "#\n",
    "# panel provides Row and Column layouts, just we stick them together\n",
    "# nest them as we need to.\n",
    "layout = pn.Column(\n",
    "    pn.pane.Markdown(\n",
    "        header\n",
    "    ),  # add the header as a markdown pane at the top element in the column\n",
    "    interaction[1],  # add our plot as the middle element in the column\n",
    "    pn.Row(\n",
    "        *interaction[0]\n",
    "    ),  # add the widgets as a row as the bottow element in the column\n",
    "    # ... we need to unpack the column and repack it as a Row\n",
    ")\n",
    "layout"
   ]
  },
  {
   "cell_type": "code",
   "execution_count": null,
   "id": "8ee62fa9-876f-4987-814f-bc2a2a13bb2f",
   "metadata": {},
   "outputs": [],
   "source": []
  }
 ],
 "metadata": {
  "kernelspec": {
   "display_name": "Python 3 (ipykernel)",
   "language": "python",
   "name": "python3"
  },
  "language_info": {
   "codemirror_mode": {
    "name": "ipython",
    "version": 3
   },
   "file_extension": ".py",
   "mimetype": "text/x-python",
   "name": "python",
   "nbconvert_exporter": "python",
   "pygments_lexer": "ipython3",
   "version": "3.9.7"
  }
 },
 "nbformat": 4,
 "nbformat_minor": 5
}
