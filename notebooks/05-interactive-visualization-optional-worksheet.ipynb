{
 "cells": [
  {
   "cell_type": "code",
   "execution_count": 4,
   "metadata": {},
   "outputs": [],
   "source": [
    "# disable warnings up front for a cleaner experience\n",
    "import warnings\n",
    "warnings.simplefilter(action='ignore', category=FutureWarning)"
   ]
  },
  {
   "cell_type": "markdown",
   "id": "41678fe1-0dcd-4dd4-8771-86dc0b190655",
   "metadata": {},
   "source": [
    "# Interactive Visualization\n",
    "\n",
    "We have seen basic examples of visualizing data, and we have seen that using the `bokeh` plotting API (under `holoviews`) allows us to interact with our visualizations on a basic level (pan, zoom, etc.). This is only the surface though! We can create *widgets* to give the viewer controls and tools for manipulating the data and visualization. This is the true power of data visualization in Python using `holoviews` and a new library called `panel`.\n",
    "\n",
    "## NOTE\n",
    "\n",
    "Support for interactive widgets in VSCode/Codespaces is a little low compared directly to Jupyter. Things will work, but will occassionally break and require restarting the kernel. Using Jupyter explictly is strongly preferred here. To help mitigate issues in VS Code/Codespaces we are going to repeat a lot of code (the code we will repeat keeps the internal complexities in check to an extent). "
   ]
  },
  {
   "cell_type": "markdown",
   "id": "04141193-eea6-4449-8df6-2f160fe805af",
   "metadata": {},
   "source": [
    "### Imports & Data\n",
    "\n",
    "First thing we need to so is import a few things to get started:"
   ]
  },
  {
   "cell_type": "code",
   "execution_count": 5,
   "id": "6b0b0781-8f11-4977-8f15-fc47950cde30",
   "metadata": {},
   "outputs": [],
   "source": [
    "import holoviews as hv\n",
    "import hvplot.pandas\n",
    "import numpy as np\n",
    "import pandas as pd\n",
    "import panel as pn"
   ]
  },
  {
   "cell_type": "code",
   "execution_count": 6,
   "metadata": {},
   "outputs": [],
   "source": [
    "%%capture\n",
    "# disables output\n",
    "# the above is a magic function. more on magic functions here\n",
    "# https://ipython.readthedocs.io/en/stable/interactive/magics.html#cell-magics\n",
    "hv.extension('bokeh')\n",
    "pn.extension(comms=\"vscode\")"
   ]
  },
  {
   "cell_type": "markdown",
   "id": "55177e5a-7976-41d4-ba12-5c0411b8871b",
   "metadata": {},
   "source": [
    "We need to work with some data - this arbitary dataset randomly generates labels from a categorical list, assigns a sequential ID, and randomly sets a value uniformly distributed between 0.0 and 1.0."
   ]
  },
  {
   "cell_type": "code",
   "execution_count": 7,
   "id": "cd456740-3973-480c-a13a-29ec499a2f08",
   "metadata": {},
   "outputs": [
    {
     "data": {
      "text/html": [
       "<div>\n",
       "<style scoped>\n",
       "    .dataframe tbody tr th:only-of-type {\n",
       "        vertical-align: middle;\n",
       "    }\n",
       "\n",
       "    .dataframe tbody tr th {\n",
       "        vertical-align: top;\n",
       "    }\n",
       "\n",
       "    .dataframe thead th {\n",
       "        text-align: right;\n",
       "    }\n",
       "</style>\n",
       "<table border=\"1\" class=\"dataframe\">\n",
       "  <thead>\n",
       "    <tr style=\"text-align: right;\">\n",
       "      <th></th>\n",
       "      <th>label</th>\n",
       "      <th>id</th>\n",
       "      <th>x</th>\n",
       "      <th>y</th>\n",
       "    </tr>\n",
       "  </thead>\n",
       "  <tbody>\n",
       "    <tr>\n",
       "      <th>0</th>\n",
       "      <td>bar</td>\n",
       "      <td>0</td>\n",
       "      <td>0.688027</td>\n",
       "      <td>0.929612</td>\n",
       "    </tr>\n",
       "    <tr>\n",
       "      <th>1</th>\n",
       "      <td>baz</td>\n",
       "      <td>1</td>\n",
       "      <td>0.196387</td>\n",
       "      <td>0.810796</td>\n",
       "    </tr>\n",
       "    <tr>\n",
       "      <th>2</th>\n",
       "      <td>foo</td>\n",
       "      <td>2</td>\n",
       "      <td>0.894665</td>\n",
       "      <td>0.774059</td>\n",
       "    </tr>\n",
       "    <tr>\n",
       "      <th>3</th>\n",
       "      <td>foo</td>\n",
       "      <td>3</td>\n",
       "      <td>0.482647</td>\n",
       "      <td>0.181535</td>\n",
       "    </tr>\n",
       "    <tr>\n",
       "      <th>4</th>\n",
       "      <td>baz</td>\n",
       "      <td>4</td>\n",
       "      <td>0.055227</td>\n",
       "      <td>0.625524</td>\n",
       "    </tr>\n",
       "    <tr>\n",
       "      <th>...</th>\n",
       "      <td>...</td>\n",
       "      <td>...</td>\n",
       "      <td>...</td>\n",
       "      <td>...</td>\n",
       "    </tr>\n",
       "    <tr>\n",
       "      <th>995</th>\n",
       "      <td>foo</td>\n",
       "      <td>995</td>\n",
       "      <td>0.049635</td>\n",
       "      <td>0.139168</td>\n",
       "    </tr>\n",
       "    <tr>\n",
       "      <th>996</th>\n",
       "      <td>foo</td>\n",
       "      <td>996</td>\n",
       "      <td>0.969112</td>\n",
       "      <td>0.213887</td>\n",
       "    </tr>\n",
       "    <tr>\n",
       "      <th>997</th>\n",
       "      <td>bar</td>\n",
       "      <td>997</td>\n",
       "      <td>0.394580</td>\n",
       "      <td>0.002596</td>\n",
       "    </tr>\n",
       "    <tr>\n",
       "      <th>998</th>\n",
       "      <td>bar</td>\n",
       "      <td>998</td>\n",
       "      <td>0.885870</td>\n",
       "      <td>0.313760</td>\n",
       "    </tr>\n",
       "    <tr>\n",
       "      <th>999</th>\n",
       "      <td>bar</td>\n",
       "      <td>999</td>\n",
       "      <td>0.660137</td>\n",
       "      <td>0.657922</td>\n",
       "    </tr>\n",
       "  </tbody>\n",
       "</table>\n",
       "<p>1000 rows × 4 columns</p>\n",
       "</div>"
      ],
      "text/plain": [
       "    label   id         x         y\n",
       "0     bar    0  0.688027  0.929612\n",
       "1     baz    1  0.196387  0.810796\n",
       "2     foo    2  0.894665  0.774059\n",
       "3     foo    3  0.482647  0.181535\n",
       "4     baz    4  0.055227  0.625524\n",
       "..    ...  ...       ...       ...\n",
       "995   foo  995  0.049635  0.139168\n",
       "996   foo  996  0.969112  0.213887\n",
       "997   bar  997  0.394580  0.002596\n",
       "998   bar  998  0.885870  0.313760\n",
       "999   bar  999  0.660137  0.657922\n",
       "\n",
       "[1000 rows x 4 columns]"
      ]
     },
     "execution_count": 7,
     "metadata": {},
     "output_type": "execute_result"
    }
   ],
   "source": [
    "data = pd.read_csv('data/basic.csv')\n",
    "data"
   ]
  },
  {
   "cell_type": "markdown",
   "id": "9afacba9-4868-49e1-b373-276ae417e567",
   "metadata": {},
   "source": [
    "## Widgets\n",
    "\n",
    "First let's plot our data using `hvplot`"
   ]
  },
  {
   "cell_type": "code",
   "execution_count": 8,
   "metadata": {},
   "outputs": [
    {
     "data": {},
     "metadata": {},
     "output_type": "display_data"
    },
    {
     "data": {
      "application/vnd.holoviews_exec.v0+json": "",
      "text/html": [
       "<div id='2ea154ac-ba00-473a-992b-7352a1f0d0b5'>\n",
       "  <div id=\"d09f7038-20fe-4607-8d1a-c74f3895a1d4\" data-root-id=\"2ea154ac-ba00-473a-992b-7352a1f0d0b5\" style=\"display: contents;\"></div>\n",
       "</div>\n",
       "<script type=\"application/javascript\">(function(root) {\n",
       "  var docs_json = {\"47734b67-8d4a-470d-9538-087f6e3a38c2\":{\"version\":\"3.2.2\",\"title\":\"Bokeh Application\",\"roots\":[{\"type\":\"object\",\"name\":\"Row\",\"id\":\"2ea154ac-ba00-473a-992b-7352a1f0d0b5\",\"attributes\":{\"name\":\"Row00900\",\"tags\":[\"embedded\"],\"stylesheets\":[\"\\n:host(.pn-loading.pn-arc):before, .pn-loading.pn-arc:before {\\n  background-image: url(\\\"data:image/svg+xml;base64,PHN2ZyB4bWxucz0iaHR0cDovL3d3dy53My5vcmcvMjAwMC9zdmciIHN0eWxlPSJtYXJnaW46IGF1dG87IGJhY2tncm91bmQ6IG5vbmU7IGRpc3BsYXk6IGJsb2NrOyBzaGFwZS1yZW5kZXJpbmc6IGF1dG87IiB2aWV3Qm94PSIwIDAgMTAwIDEwMCIgcHJlc2VydmVBc3BlY3RSYXRpbz0ieE1pZFlNaWQiPiAgPGNpcmNsZSBjeD0iNTAiIGN5PSI1MCIgZmlsbD0ibm9uZSIgc3Ryb2tlPSIjYzNjM2MzIiBzdHJva2Utd2lkdGg9IjEwIiByPSIzNSIgc3Ryb2tlLWRhc2hhcnJheT0iMTY0LjkzMzYxNDMxMzQ2NDE1IDU2Ljk3Nzg3MTQzNzgyMTM4Ij4gICAgPGFuaW1hdGVUcmFuc2Zvcm0gYXR0cmlidXRlTmFtZT0idHJhbnNmb3JtIiB0eXBlPSJyb3RhdGUiIHJlcGVhdENvdW50PSJpbmRlZmluaXRlIiBkdXI9IjFzIiB2YWx1ZXM9IjAgNTAgNTA7MzYwIDUwIDUwIiBrZXlUaW1lcz0iMDsxIj48L2FuaW1hdGVUcmFuc2Zvcm0+ICA8L2NpcmNsZT48L3N2Zz4=\\\");\\n  background-size: auto calc(min(50%, 400px));\\n}\",{\"type\":\"object\",\"name\":\"ImportedStyleSheet\",\"id\":\"69080042-a5fb-48b1-aeca-4d8fe80f55da\",\"attributes\":{\"url\":\"https://cdn.holoviz.org/panel/1.2.2/dist/css/loading.css\"}},{\"type\":\"object\",\"name\":\"ImportedStyleSheet\",\"id\":\"2e65da11-ffb4-4e74-97cc-8016be01e8b1\",\"attributes\":{\"url\":\"https://cdn.holoviz.org/panel/1.2.2/dist/css/listpanel.css\"}},{\"type\":\"object\",\"name\":\"ImportedStyleSheet\",\"id\":\"fbc27d96-c756-4021-b662-753bd3d74050\",\"attributes\":{\"url\":\"https://cdn.holoviz.org/panel/1.2.2/dist/bundled/theme/default.css\"}},{\"type\":\"object\",\"name\":\"ImportedStyleSheet\",\"id\":\"94bce877-6d89-456a-8536-cda9e755c8dd\",\"attributes\":{\"url\":\"https://cdn.holoviz.org/panel/1.2.2/dist/bundled/theme/native.css\"}}],\"min_width\":700,\"margin\":0,\"sizing_mode\":\"stretch_width\",\"align\":\"start\",\"children\":[{\"type\":\"object\",\"name\":\"Spacer\",\"id\":\"7a1b9f59-880a-49b2-9506-14ecbd9875ae\",\"attributes\":{\"name\":\"HSpacer00911\",\"stylesheets\":[\"\\n:host(.pn-loading.pn-arc):before, .pn-loading.pn-arc:before {\\n  background-image: url(\\\"data:image/svg+xml;base64,PHN2ZyB4bWxucz0iaHR0cDovL3d3dy53My5vcmcvMjAwMC9zdmciIHN0eWxlPSJtYXJnaW46IGF1dG87IGJhY2tncm91bmQ6IG5vbmU7IGRpc3BsYXk6IGJsb2NrOyBzaGFwZS1yZW5kZXJpbmc6IGF1dG87IiB2aWV3Qm94PSIwIDAgMTAwIDEwMCIgcHJlc2VydmVBc3BlY3RSYXRpbz0ieE1pZFlNaWQiPiAgPGNpcmNsZSBjeD0iNTAiIGN5PSI1MCIgZmlsbD0ibm9uZSIgc3Ryb2tlPSIjYzNjM2MzIiBzdHJva2Utd2lkdGg9IjEwIiByPSIzNSIgc3Ryb2tlLWRhc2hhcnJheT0iMTY0LjkzMzYxNDMxMzQ2NDE1IDU2Ljk3Nzg3MTQzNzgyMTM4Ij4gICAgPGFuaW1hdGVUcmFuc2Zvcm0gYXR0cmlidXRlTmFtZT0idHJhbnNmb3JtIiB0eXBlPSJyb3RhdGUiIHJlcGVhdENvdW50PSJpbmRlZmluaXRlIiBkdXI9IjFzIiB2YWx1ZXM9IjAgNTAgNTA7MzYwIDUwIDUwIiBrZXlUaW1lcz0iMDsxIj48L2FuaW1hdGVUcmFuc2Zvcm0+ICA8L2NpcmNsZT48L3N2Zz4=\\\");\\n  background-size: auto calc(min(50%, 400px));\\n}\",{\"id\":\"69080042-a5fb-48b1-aeca-4d8fe80f55da\"},{\"id\":\"fbc27d96-c756-4021-b662-753bd3d74050\"},{\"id\":\"94bce877-6d89-456a-8536-cda9e755c8dd\"}],\"margin\":0,\"sizing_mode\":\"stretch_width\",\"align\":\"start\"}},{\"type\":\"object\",\"name\":\"Figure\",\"id\":\"931002ef-385b-4b5a-bb9d-fcd0472887be\",\"attributes\":{\"width\":700,\"height\":300,\"margin\":[5,10],\"sizing_mode\":\"fixed\",\"align\":\"start\",\"x_range\":{\"type\":\"object\",\"name\":\"Range1d\",\"id\":\"4e87b1ba-6f1d-4061-83dc-f9962fe8c685\",\"attributes\":{\"tags\":[[[\"x\",\"x\",null]],[]],\"start\":-0.04147657820608888,\"end\":1.0395946479773586,\"reset_start\":-0.04147657820608888,\"reset_end\":1.0395946479773586}},\"y_range\":{\"type\":\"object\",\"name\":\"Range1d\",\"id\":\"b8987140-e2a9-4a25-8cbe-8a88933a2b57\",\"attributes\":{\"tags\":[[[\"y\",\"y\",null]],{\"type\":\"map\",\"entries\":[[\"invert_yaxis\",false],[\"autorange\",false]]}],\"start\":-0.0969249147312602,\"end\":1.097331595784875,\"reset_start\":-0.0969249147312602,\"reset_end\":1.097331595784875}},\"x_scale\":{\"type\":\"object\",\"name\":\"LinearScale\",\"id\":\"f8ee455f-fe81-452e-a3a6-e78fd45c4f15\"},\"y_scale\":{\"type\":\"object\",\"name\":\"LinearScale\",\"id\":\"7b46274b-b144-4dd9-9300-eb86493f9483\"},\"title\":{\"type\":\"object\",\"name\":\"Title\",\"id\":\"3974b1b9-8c34-4491-9672-5f33d5458e13\",\"attributes\":{\"text\":\"Random Data\",\"text_color\":\"black\",\"text_font_size\":\"12pt\"}},\"renderers\":[{\"type\":\"object\",\"name\":\"GlyphRenderer\",\"id\":\"66ba8322-720d-4852-8878-ea3633965c8c\",\"attributes\":{\"name\":\"color\",\"data_source\":{\"type\":\"object\",\"name\":\"ColumnDataSource\",\"id\":\"f62470aa-b59e-4efd-aa01-5fa366ee75c6\",\"attributes\":{\"selected\":{\"type\":\"object\",\"name\":\"Selection\",\"id\":\"9ba1d3a3-3ded-4644-8af2-383624a65978\",\"attributes\":{\"indices\":[],\"line_indices\":[]}},\"selection_policy\":{\"type\":\"object\",\"name\":\"UnionRenderers\",\"id\":\"2b88b359-964b-418b-b899-0beb4cbaca84\"},\"data\":{\"type\":\"map\",\"entries\":[[\"x\",{\"type\":\"ndarray\",\"array\":{\"type\":\"bytes\",\"data\":\"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\"},\"shape\":[1000],\"dtype\":\"float64\",\"order\":\"little\"}],[\"y\",{\"type\":\"ndarray\",\"array\":{\"type\":\"bytes\",\"data\":\"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\"},\"shape\":[1000],\"dtype\":\"float64\",\"order\":\"little\"}],[\"label\",[\"bar\",\"baz\",\"foo\",\"foo\",\"baz\",\"foo\",\"bar\",\"foo\",\"baz\",\"foo\",\"baz\",\"bar\",\"bar\",\"baz\",\"foo\",\"foo\",\"bar\",\"bar\",\"bar\",\"foo\",\"foo\",\"bar\",\"foo\",\"bar\",\"bar\",\"bar\",\"foo\",\"baz\",\"bar\",\"foo\",\"foo\",\"bar\",\"baz\",\"foo\",\"foo\",\"baz\",\"foo\",\"bar\",\"foo\",\"baz\",\"foo\",\"foo\",\"baz\",\"foo\",\"foo\",\"baz\",\"bar\",\"baz\",\"foo\",\"bar\",\"baz\",\"bar\",\"foo\",\"foo\",\"foo\",\"foo\",\"foo\",\"bar\",\"foo\",\"bar\",\"bar\",\"bar\",\"baz\",\"foo\",\"foo\",\"bar\",\"foo\",\"bar\",\"bar\",\"foo\",\"foo\",\"foo\",\"baz\",\"bar\",\"foo\",\"bar\",\"bar\",\"foo\",\"bar\",\"foo\",\"baz\",\"bar\",\"foo\",\"foo\",\"foo\",\"foo\",\"bar\",\"foo\",\"foo\",\"foo\",\"foo\",\"foo\",\"bar\",\"baz\",\"baz\",\"bar\",\"bar\",\"foo\",\"bar\",\"baz\",\"foo\",\"foo\",\"foo\",\"bar\",\"foo\",\"foo\",\"foo\",\"bar\",\"bar\",\"bar\",\"bar\",\"baz\",\"baz\",\"bar\",\"baz\",\"foo\",\"baz\",\"foo\",\"baz\",\"foo\",\"bar\",\"bar\",\"foo\",\"foo\",\"foo\",\"foo\",\"baz\",\"foo\",\"bar\",\"foo\",\"foo\",\"foo\",\"foo\",\"foo\",\"foo\",\"foo\",\"bar\",\"foo\",\"foo\",\"foo\",\"baz\",\"bar\",\"foo\",\"bar\",\"bar\",\"foo\",\"foo\",\"baz\",\"foo\",\"baz\",\"bar\",\"foo\",\"bar\",\"foo\",\"baz\",\"bar\",\"foo\",\"bar\",\"foo\",\"foo\",\"foo\",\"foo\",\"foo\",\"bar\",\"bar\",\"foo\",\"foo\",\"foo\",\"baz\",\"foo\",\"foo\",\"bar\",\"foo\",\"bar\",\"bar\",\"baz\",\"foo\",\"bar\",\"foo\",\"foo\",\"baz\",\"baz\",\"bar\",\"foo\",\"foo\",\"foo\",\"foo\",\"foo\",\"foo\",\"bar\",\"foo\",\"foo\",\"bar\",\"foo\",\"foo\",\"foo\",\"bar\",\"baz\",\"foo\",\"foo\",\"bar\",\"foo\",\"foo\",\"baz\",\"bar\",\"bar\",\"bar\",\"foo\",\"foo\",\"foo\",\"bar\",\"foo\",\"bar\",\"baz\",\"bar\",\"foo\",\"baz\",\"bar\",\"baz\",\"foo\",\"foo\",\"bar\",\"baz\",\"baz\",\"baz\",\"bar\",\"foo\",\"bar\",\"baz\",\"bar\",\"foo\",\"foo\",\"bar\",\"foo\",\"foo\",\"baz\",\"bar\",\"foo\",\"foo\",\"foo\",\"baz\",\"foo\",\"baz\",\"foo\",\"foo\",\"foo\",\"baz\",\"foo\",\"bar\",\"baz\",\"foo\",\"foo\",\"foo\",\"foo\",\"bar\",\"bar\",\"foo\",\"bar\",\"baz\",\"foo\",\"baz\",\"foo\",\"foo\",\"foo\",\"baz\",\"foo\",\"foo\",\"foo\",\"baz\",\"baz\",\"foo\",\"baz\",\"baz\",\"foo\",\"foo\",\"baz\",\"foo\",\"bar\",\"foo\",\"foo\",\"bar\",\"foo\",\"foo\",\"bar\",\"bar\",\"foo\",\"bar\",\"bar\",\"bar\",\"baz\",\"foo\",\"foo\",\"foo\",\"bar\",\"foo\",\"bar\",\"foo\",\"foo\",\"bar\",\"bar\",\"foo\",\"foo\",\"baz\",\"baz\",\"foo\",\"foo\",\"baz\",\"baz\",\"foo\",\"foo\",\"bar\",\"foo\",\"foo\",\"bar\",\"baz\",\"foo\",\"foo\",\"foo\",\"foo\",\"baz\",\"bar\",\"bar\",\"bar\",\"baz\",\"foo\",\"bar\",\"foo\",\"foo\",\"bar\",\"bar\",\"foo\",\"foo\",\"foo\",\"bar\",\"foo\",\"bar\",\"foo\",\"bar\",\"bar\",\"foo\",\"foo\",\"foo\",\"baz\",\"foo\",\"foo\",\"bar\",\"baz\",\"foo\",\"bar\",\"bar\",\"foo\",\"bar\",\"bar\",\"foo\",\"foo\",\"bar\",\"foo\",\"bar\",\"bar\",\"bar\",\"baz\",\"bar\",\"foo\",\"baz\",\"foo\",\"baz\",\"foo\",\"foo\",\"foo\",\"foo\",\"bar\",\"foo\",\"foo\",\"baz\",\"foo\",\"bar\",\"baz\",\"foo\",\"baz\",\"bar\",\"baz\",\"baz\",\"foo\",\"bar\",\"bar\",\"bar\",\"bar\",\"baz\",\"foo\",\"foo\",\"foo\",\"bar\",\"foo\",\"foo\",\"bar\",\"bar\",\"bar\",\"baz\",\"bar\",\"foo\",\"bar\",\"bar\",\"bar\",\"bar\",\"foo\",\"foo\",\"bar\",\"bar\",\"foo\",\"foo\",\"foo\",\"foo\",\"bar\",\"foo\",\"bar\",\"bar\",\"foo\",\"baz\",\"foo\",\"foo\",\"bar\",\"foo\",\"foo\",\"foo\",\"foo\",\"bar\",\"foo\",\"foo\",\"foo\",\"bar\",\"foo\",\"foo\",\"foo\",\"foo\",\"foo\",\"baz\",\"foo\",\"bar\",\"bar\",\"bar\",\"bar\",\"foo\",\"bar\",\"foo\",\"bar\",\"baz\",\"foo\",\"bar\",\"foo\",\"bar\",\"bar\",\"foo\",\"foo\",\"bar\",\"baz\",\"bar\",\"foo\",\"foo\",\"foo\",\"baz\",\"baz\",\"foo\",\"foo\",\"baz\",\"bar\",\"bar\",\"foo\",\"foo\",\"bar\",\"baz\",\"bar\",\"foo\",\"foo\",\"baz\",\"foo\",\"bar\",\"bar\",\"bar\",\"foo\",\"foo\",\"bar\",\"foo\",\"foo\",\"foo\",\"foo\",\"bar\",\"bar\",\"foo\",\"foo\",\"foo\",\"baz\",\"baz\",\"foo\",\"foo\",\"bar\",\"foo\",\"foo\",\"baz\",\"foo\",\"foo\",\"baz\",\"bar\",\"foo\",\"foo\",\"bar\",\"bar\",\"foo\",\"baz\",\"foo\",\"foo\",\"bar\",\"foo\",\"foo\",\"foo\",\"foo\",\"bar\",\"baz\",\"bar\",\"foo\",\"bar\",\"foo\",\"baz\",\"bar\",\"foo\",\"foo\",\"foo\",\"baz\",\"bar\",\"foo\",\"foo\",\"bar\",\"baz\",\"foo\",\"bar\",\"foo\",\"bar\",\"foo\",\"bar\",\"foo\",\"bar\",\"foo\",\"baz\",\"foo\",\"baz\",\"bar\",\"foo\",\"bar\",\"bar\",\"foo\",\"foo\",\"bar\",\"baz\",\"baz\",\"bar\",\"baz\",\"foo\",\"bar\",\"bar\",\"foo\",\"bar\",\"bar\",\"baz\",\"foo\",\"baz\",\"baz\",\"baz\",\"foo\",\"bar\",\"bar\",\"foo\",\"foo\",\"bar\",\"bar\",\"foo\",\"baz\",\"bar\",\"baz\",\"bar\",\"foo\",\"foo\",\"bar\",\"bar\",\"foo\",\"foo\",\"bar\",\"foo\",\"foo\",\"bar\",\"bar\",\"foo\",\"baz\",\"foo\",\"bar\",\"foo\",\"foo\",\"foo\",\"bar\",\"foo\",\"foo\",\"baz\",\"foo\",\"baz\",\"foo\",\"baz\",\"bar\",\"bar\",\"bar\",\"foo\",\"bar\",\"bar\",\"bar\",\"bar\",\"foo\",\"foo\",\"foo\",\"foo\",\"foo\",\"bar\",\"foo\",\"foo\",\"bar\",\"foo\",\"baz\",\"foo\",\"foo\",\"baz\",\"bar\",\"foo\",\"foo\",\"foo\",\"baz\",\"foo\",\"foo\",\"baz\",\"foo\",\"foo\",\"foo\",\"bar\",\"bar\",\"bar\",\"foo\",\"foo\",\"bar\",\"bar\",\"bar\",\"foo\",\"foo\",\"bar\",\"bar\",\"foo\",\"bar\",\"foo\",\"bar\",\"foo\",\"baz\",\"foo\",\"bar\",\"foo\",\"foo\",\"bar\",\"foo\",\"foo\",\"bar\",\"foo\",\"foo\",\"foo\",\"baz\",\"foo\",\"bar\",\"foo\",\"foo\",\"bar\",\"bar\",\"baz\",\"bar\",\"bar\",\"baz\",\"bar\",\"foo\",\"foo\",\"foo\",\"foo\",\"foo\",\"bar\",\"bar\",\"bar\",\"bar\",\"foo\",\"bar\",\"foo\",\"foo\",\"foo\",\"foo\",\"foo\",\"foo\",\"foo\",\"foo\",\"foo\",\"bar\",\"bar\",\"foo\",\"foo\",\"foo\",\"foo\",\"baz\",\"foo\",\"foo\",\"bar\",\"foo\",\"foo\",\"bar\",\"bar\",\"foo\",\"foo\",\"bar\",\"foo\",\"foo\",\"foo\",\"foo\",\"foo\",\"foo\",\"baz\",\"baz\",\"foo\",\"bar\",\"foo\",\"bar\",\"bar\",\"bar\",\"foo\",\"bar\",\"bar\",\"foo\",\"bar\",\"bar\",\"bar\",\"foo\",\"foo\",\"baz\",\"bar\",\"foo\",\"foo\",\"foo\",\"baz\",\"foo\",\"bar\",\"foo\",\"bar\",\"bar\",\"foo\",\"bar\",\"foo\",\"baz\",\"baz\",\"bar\",\"bar\",\"baz\",\"baz\",\"baz\",\"bar\",\"baz\",\"bar\",\"bar\",\"bar\",\"bar\",\"foo\",\"foo\",\"foo\",\"baz\",\"foo\",\"bar\",\"foo\",\"foo\",\"bar\",\"bar\",\"baz\",\"foo\",\"bar\",\"bar\",\"bar\",\"bar\",\"foo\",\"foo\",\"foo\",\"foo\",\"foo\",\"bar\",\"foo\",\"foo\",\"bar\",\"foo\",\"foo\",\"foo\",\"foo\",\"bar\",\"foo\",\"foo\",\"foo\",\"foo\",\"bar\",\"baz\",\"foo\",\"foo\",\"bar\",\"bar\",\"foo\",\"foo\",\"foo\",\"foo\",\"bar\",\"foo\",\"bar\",\"bar\",\"bar\",\"bar\",\"bar\",\"bar\",\"bar\",\"bar\",\"baz\",\"bar\",\"bar\",\"foo\",\"foo\",\"foo\",\"bar\",\"baz\",\"foo\",\"bar\",\"baz\",\"foo\",\"baz\",\"foo\",\"baz\",\"foo\",\"foo\",\"foo\",\"foo\",\"baz\",\"foo\",\"foo\",\"foo\",\"foo\",\"foo\",\"foo\",\"foo\",\"bar\",\"bar\",\"foo\",\"baz\",\"baz\",\"foo\",\"bar\",\"foo\",\"foo\",\"foo\",\"bar\",\"foo\",\"bar\",\"foo\",\"foo\",\"foo\",\"foo\",\"bar\",\"baz\",\"foo\",\"foo\",\"foo\",\"foo\",\"bar\",\"bar\",\"foo\",\"baz\",\"foo\",\"foo\",\"foo\",\"bar\",\"foo\",\"foo\",\"foo\",\"baz\",\"baz\",\"foo\",\"foo\",\"foo\",\"bar\",\"bar\",\"foo\",\"foo\",\"baz\",\"baz\",\"bar\",\"foo\",\"bar\",\"bar\",\"bar\",\"foo\",\"bar\",\"foo\",\"foo\",\"bar\",\"foo\",\"foo\",\"bar\",\"foo\",\"foo\",\"bar\",\"bar\",\"foo\",\"baz\",\"baz\",\"bar\",\"baz\",\"bar\",\"baz\",\"bar\",\"bar\",\"baz\",\"foo\",\"bar\",\"bar\",\"foo\",\"bar\",\"foo\",\"foo\",\"foo\",\"baz\",\"bar\",\"bar\",\"baz\",\"foo\",\"baz\",\"bar\",\"foo\",\"bar\",\"bar\",\"baz\",\"bar\",\"bar\",\"foo\",\"bar\",\"foo\",\"bar\",\"bar\",\"bar\",\"bar\",\"bar\",\"bar\",\"foo\",\"bar\",\"foo\",\"foo\",\"baz\",\"baz\",\"baz\",\"bar\",\"bar\",\"foo\",\"baz\",\"baz\",\"bar\",\"baz\",\"foo\",\"baz\",\"foo\",\"bar\",\"bar\",\"bar\",\"foo\",\"foo\",\"foo\",\"foo\",\"foo\",\"foo\",\"bar\",\"foo\",\"bar\",\"baz\",\"foo\",\"bar\",\"bar\",\"foo\",\"foo\",\"foo\",\"bar\",\"foo\",\"baz\",\"baz\",\"baz\",\"foo\",\"foo\",\"foo\",\"foo\",\"baz\",\"bar\",\"foo\",\"foo\",\"bar\",\"bar\",\"bar\"]],[\"color\",[\"bar\",\"baz\",\"foo\",\"foo\",\"baz\",\"foo\",\"bar\",\"foo\",\"baz\",\"foo\",\"baz\",\"bar\",\"bar\",\"baz\",\"foo\",\"foo\",\"bar\",\"bar\",\"bar\",\"foo\",\"foo\",\"bar\",\"foo\",\"bar\",\"bar\",\"bar\",\"foo\",\"baz\",\"bar\",\"foo\",\"foo\",\"bar\",\"baz\",\"foo\",\"foo\",\"baz\",\"foo\",\"bar\",\"foo\",\"baz\",\"foo\",\"foo\",\"baz\",\"foo\",\"foo\",\"baz\",\"bar\",\"baz\",\"foo\",\"bar\",\"baz\",\"bar\",\"foo\",\"foo\",\"foo\",\"foo\",\"foo\",\"bar\",\"foo\",\"bar\",\"bar\",\"bar\",\"baz\",\"foo\",\"foo\",\"bar\",\"foo\",\"bar\",\"bar\",\"foo\",\"foo\",\"foo\",\"baz\",\"bar\",\"foo\",\"bar\",\"bar\",\"foo\",\"bar\",\"foo\",\"baz\",\"bar\",\"foo\",\"foo\",\"foo\",\"foo\",\"bar\",\"foo\",\"foo\",\"foo\",\"foo\",\"foo\",\"bar\",\"baz\",\"baz\",\"bar\",\"bar\",\"foo\",\"bar\",\"baz\",\"foo\",\"foo\",\"foo\",\"bar\",\"foo\",\"foo\",\"foo\",\"bar\",\"bar\",\"bar\",\"bar\",\"baz\",\"baz\",\"bar\",\"baz\",\"foo\",\"baz\",\"foo\",\"baz\",\"foo\",\"bar\",\"bar\",\"foo\",\"foo\",\"foo\",\"foo\",\"baz\",\"foo\",\"bar\",\"foo\",\"foo\",\"foo\",\"foo\",\"foo\",\"foo\",\"foo\",\"bar\",\"foo\",\"foo\",\"foo\",\"baz\",\"bar\",\"foo\",\"bar\",\"bar\",\"foo\",\"foo\",\"baz\",\"foo\",\"baz\",\"bar\",\"foo\",\"bar\",\"foo\",\"baz\",\"bar\",\"foo\",\"bar\",\"foo\",\"foo\",\"foo\",\"foo\",\"foo\",\"bar\",\"bar\",\"foo\",\"foo\",\"foo\",\"baz\",\"foo\",\"foo\",\"bar\",\"foo\",\"bar\",\"bar\",\"baz\",\"foo\",\"bar\",\"foo\",\"foo\",\"baz\",\"baz\",\"bar\",\"foo\",\"foo\",\"foo\",\"foo\",\"foo\",\"foo\",\"bar\",\"foo\",\"foo\",\"bar\",\"foo\",\"foo\",\"foo\",\"bar\",\"baz\",\"foo\",\"foo\",\"bar\",\"foo\",\"foo\",\"baz\",\"bar\",\"bar\",\"bar\",\"foo\",\"foo\",\"foo\",\"bar\",\"foo\",\"bar\",\"baz\",\"bar\",\"foo\",\"baz\",\"bar\",\"baz\",\"foo\",\"foo\",\"bar\",\"baz\",\"baz\",\"baz\",\"bar\",\"foo\",\"bar\",\"baz\",\"bar\",\"foo\",\"foo\",\"bar\",\"foo\",\"foo\",\"baz\",\"bar\",\"foo\",\"foo\",\"foo\",\"baz\",\"foo\",\"baz\",\"foo\",\"foo\",\"foo\",\"baz\",\"foo\",\"bar\",\"baz\",\"foo\",\"foo\",\"foo\",\"foo\",\"bar\",\"bar\",\"foo\",\"bar\",\"baz\",\"foo\",\"baz\",\"foo\",\"foo\",\"foo\",\"baz\",\"foo\",\"foo\",\"foo\",\"baz\",\"baz\",\"foo\",\"baz\",\"baz\",\"foo\",\"foo\",\"baz\",\"foo\",\"bar\",\"foo\",\"foo\",\"bar\",\"foo\",\"foo\",\"bar\",\"bar\",\"foo\",\"bar\",\"bar\",\"bar\",\"baz\",\"foo\",\"foo\",\"foo\",\"bar\",\"foo\",\"bar\",\"foo\",\"foo\",\"bar\",\"bar\",\"foo\",\"foo\",\"baz\",\"baz\",\"foo\",\"foo\",\"baz\",\"baz\",\"foo\",\"foo\",\"bar\",\"foo\",\"foo\",\"bar\",\"baz\",\"foo\",\"foo\",\"foo\",\"foo\",\"baz\",\"bar\",\"bar\",\"bar\",\"baz\",\"foo\",\"bar\",\"foo\",\"foo\",\"bar\",\"bar\",\"foo\",\"foo\",\"foo\",\"bar\",\"foo\",\"bar\",\"foo\",\"bar\",\"bar\",\"foo\",\"foo\",\"foo\",\"baz\",\"foo\",\"foo\",\"bar\",\"baz\",\"foo\",\"bar\",\"bar\",\"foo\",\"bar\",\"bar\",\"foo\",\"foo\",\"bar\",\"foo\",\"bar\",\"bar\",\"bar\",\"baz\",\"bar\",\"foo\",\"baz\",\"foo\",\"baz\",\"foo\",\"foo\",\"foo\",\"foo\",\"bar\",\"foo\",\"foo\",\"baz\",\"foo\",\"bar\",\"baz\",\"foo\",\"baz\",\"bar\",\"baz\",\"baz\",\"foo\",\"bar\",\"bar\",\"bar\",\"bar\",\"baz\",\"foo\",\"foo\",\"foo\",\"bar\",\"foo\",\"foo\",\"bar\",\"bar\",\"bar\",\"baz\",\"bar\",\"foo\",\"bar\",\"bar\",\"bar\",\"bar\",\"foo\",\"foo\",\"bar\",\"bar\",\"foo\",\"foo\",\"foo\",\"foo\",\"bar\",\"foo\",\"bar\",\"bar\",\"foo\",\"baz\",\"foo\",\"foo\",\"bar\",\"foo\",\"foo\",\"foo\",\"foo\",\"bar\",\"foo\",\"foo\",\"foo\",\"bar\",\"foo\",\"foo\",\"foo\",\"foo\",\"foo\",\"baz\",\"foo\",\"bar\",\"bar\",\"bar\",\"bar\",\"foo\",\"bar\",\"foo\",\"bar\",\"baz\",\"foo\",\"bar\",\"foo\",\"bar\",\"bar\",\"foo\",\"foo\",\"bar\",\"baz\",\"bar\",\"foo\",\"foo\",\"foo\",\"baz\",\"baz\",\"foo\",\"foo\",\"baz\",\"bar\",\"bar\",\"foo\",\"foo\",\"bar\",\"baz\",\"bar\",\"foo\",\"foo\",\"baz\",\"foo\",\"bar\",\"bar\",\"bar\",\"foo\",\"foo\",\"bar\",\"foo\",\"foo\",\"foo\",\"foo\",\"bar\",\"bar\",\"foo\",\"foo\",\"foo\",\"baz\",\"baz\",\"foo\",\"foo\",\"bar\",\"foo\",\"foo\",\"baz\",\"foo\",\"foo\",\"baz\",\"bar\",\"foo\",\"foo\",\"bar\",\"bar\",\"foo\",\"baz\",\"foo\",\"foo\",\"bar\",\"foo\",\"foo\",\"foo\",\"foo\",\"bar\",\"baz\",\"bar\",\"foo\",\"bar\",\"foo\",\"baz\",\"bar\",\"foo\",\"foo\",\"foo\",\"baz\",\"bar\",\"foo\",\"foo\",\"bar\",\"baz\",\"foo\",\"bar\",\"foo\",\"bar\",\"foo\",\"bar\",\"foo\",\"bar\",\"foo\",\"baz\",\"foo\",\"baz\",\"bar\",\"foo\",\"bar\",\"bar\",\"foo\",\"foo\",\"bar\",\"baz\",\"baz\",\"bar\",\"baz\",\"foo\",\"bar\",\"bar\",\"foo\",\"bar\",\"bar\",\"baz\",\"foo\",\"baz\",\"baz\",\"baz\",\"foo\",\"bar\",\"bar\",\"foo\",\"foo\",\"bar\",\"bar\",\"foo\",\"baz\",\"bar\",\"baz\",\"bar\",\"foo\",\"foo\",\"bar\",\"bar\",\"foo\",\"foo\",\"bar\",\"foo\",\"foo\",\"bar\",\"bar\",\"foo\",\"baz\",\"foo\",\"bar\",\"foo\",\"foo\",\"foo\",\"bar\",\"foo\",\"foo\",\"baz\",\"foo\",\"baz\",\"foo\",\"baz\",\"bar\",\"bar\",\"bar\",\"foo\",\"bar\",\"bar\",\"bar\",\"bar\",\"foo\",\"foo\",\"foo\",\"foo\",\"foo\",\"bar\",\"foo\",\"foo\",\"bar\",\"foo\",\"baz\",\"foo\",\"foo\",\"baz\",\"bar\",\"foo\",\"foo\",\"foo\",\"baz\",\"foo\",\"foo\",\"baz\",\"foo\",\"foo\",\"foo\",\"bar\",\"bar\",\"bar\",\"foo\",\"foo\",\"bar\",\"bar\",\"bar\",\"foo\",\"foo\",\"bar\",\"bar\",\"foo\",\"bar\",\"foo\",\"bar\",\"foo\",\"baz\",\"foo\",\"bar\",\"foo\",\"foo\",\"bar\",\"foo\",\"foo\",\"bar\",\"foo\",\"foo\",\"foo\",\"baz\",\"foo\",\"bar\",\"foo\",\"foo\",\"bar\",\"bar\",\"baz\",\"bar\",\"bar\",\"baz\",\"bar\",\"foo\",\"foo\",\"foo\",\"foo\",\"foo\",\"bar\",\"bar\",\"bar\",\"bar\",\"foo\",\"bar\",\"foo\",\"foo\",\"foo\",\"foo\",\"foo\",\"foo\",\"foo\",\"foo\",\"foo\",\"bar\",\"bar\",\"foo\",\"foo\",\"foo\",\"foo\",\"baz\",\"foo\",\"foo\",\"bar\",\"foo\",\"foo\",\"bar\",\"bar\",\"foo\",\"foo\",\"bar\",\"foo\",\"foo\",\"foo\",\"foo\",\"foo\",\"foo\",\"baz\",\"baz\",\"foo\",\"bar\",\"foo\",\"bar\",\"bar\",\"bar\",\"foo\",\"bar\",\"bar\",\"foo\",\"bar\",\"bar\",\"bar\",\"foo\",\"foo\",\"baz\",\"bar\",\"foo\",\"foo\",\"foo\",\"baz\",\"foo\",\"bar\",\"foo\",\"bar\",\"bar\",\"foo\",\"bar\",\"foo\",\"baz\",\"baz\",\"bar\",\"bar\",\"baz\",\"baz\",\"baz\",\"bar\",\"baz\",\"bar\",\"bar\",\"bar\",\"bar\",\"foo\",\"foo\",\"foo\",\"baz\",\"foo\",\"bar\",\"foo\",\"foo\",\"bar\",\"bar\",\"baz\",\"foo\",\"bar\",\"bar\",\"bar\",\"bar\",\"foo\",\"foo\",\"foo\",\"foo\",\"foo\",\"bar\",\"foo\",\"foo\",\"bar\",\"foo\",\"foo\",\"foo\",\"foo\",\"bar\",\"foo\",\"foo\",\"foo\",\"foo\",\"bar\",\"baz\",\"foo\",\"foo\",\"bar\",\"bar\",\"foo\",\"foo\",\"foo\",\"foo\",\"bar\",\"foo\",\"bar\",\"bar\",\"bar\",\"bar\",\"bar\",\"bar\",\"bar\",\"bar\",\"baz\",\"bar\",\"bar\",\"foo\",\"foo\",\"foo\",\"bar\",\"baz\",\"foo\",\"bar\",\"baz\",\"foo\",\"baz\",\"foo\",\"baz\",\"foo\",\"foo\",\"foo\",\"foo\",\"baz\",\"foo\",\"foo\",\"foo\",\"foo\",\"foo\",\"foo\",\"foo\",\"bar\",\"bar\",\"foo\",\"baz\",\"baz\",\"foo\",\"bar\",\"foo\",\"foo\",\"foo\",\"bar\",\"foo\",\"bar\",\"foo\",\"foo\",\"foo\",\"foo\",\"bar\",\"baz\",\"foo\",\"foo\",\"foo\",\"foo\",\"bar\",\"bar\",\"foo\",\"baz\",\"foo\",\"foo\",\"foo\",\"bar\",\"foo\",\"foo\",\"foo\",\"baz\",\"baz\",\"foo\",\"foo\",\"foo\",\"bar\",\"bar\",\"foo\",\"foo\",\"baz\",\"baz\",\"bar\",\"foo\",\"bar\",\"bar\",\"bar\",\"foo\",\"bar\",\"foo\",\"foo\",\"bar\",\"foo\",\"foo\",\"bar\",\"foo\",\"foo\",\"bar\",\"bar\",\"foo\",\"baz\",\"baz\",\"bar\",\"baz\",\"bar\",\"baz\",\"bar\",\"bar\",\"baz\",\"foo\",\"bar\",\"bar\",\"foo\",\"bar\",\"foo\",\"foo\",\"foo\",\"baz\",\"bar\",\"bar\",\"baz\",\"foo\",\"baz\",\"bar\",\"foo\",\"bar\",\"bar\",\"baz\",\"bar\",\"bar\",\"foo\",\"bar\",\"foo\",\"bar\",\"bar\",\"bar\",\"bar\",\"bar\",\"bar\",\"foo\",\"bar\",\"foo\",\"foo\",\"baz\",\"baz\",\"baz\",\"bar\",\"bar\",\"foo\",\"baz\",\"baz\",\"bar\",\"baz\",\"foo\",\"baz\",\"foo\",\"bar\",\"bar\",\"bar\",\"foo\",\"foo\",\"foo\",\"foo\",\"foo\",\"foo\",\"bar\",\"foo\",\"bar\",\"baz\",\"foo\",\"bar\",\"bar\",\"foo\",\"foo\",\"foo\",\"bar\",\"foo\",\"baz\",\"baz\",\"baz\",\"foo\",\"foo\",\"foo\",\"foo\",\"baz\",\"bar\",\"foo\",\"foo\",\"bar\",\"bar\",\"bar\"]]]}}},\"view\":{\"type\":\"object\",\"name\":\"CDSView\",\"id\":\"b4351985-9afd-4419-8d49-8a01dfd4e1db\",\"attributes\":{\"filter\":{\"type\":\"object\",\"name\":\"AllIndices\",\"id\":\"b32eccdf-cdb6-46f7-8615-756e0da04581\"}}},\"glyph\":{\"type\":\"object\",\"name\":\"Scatter\",\"id\":\"75db850a-0f35-479f-9796-1cf49e7e649d\",\"attributes\":{\"tags\":[\"apply_ranges\"],\"x\":{\"type\":\"field\",\"field\":\"x\"},\"y\":{\"type\":\"field\",\"field\":\"y\"},\"size\":{\"type\":\"value\",\"value\":5.477225575051661},\"line_color\":{\"type\":\"field\",\"field\":\"color\",\"transform\":{\"type\":\"object\",\"name\":\"CategoricalColorMapper\",\"id\":\"d68d02ba-4255-4566-bae2-ee90f0e18772\",\"attributes\":{\"palette\":[\"#1f77b3\",\"#ff7e0e\",\"#2ba02b\"],\"factors\":[\"bar\",\"baz\",\"foo\"]}}},\"fill_color\":{\"type\":\"field\",\"field\":\"color\",\"transform\":{\"id\":\"d68d02ba-4255-4566-bae2-ee90f0e18772\"}},\"hatch_color\":{\"type\":\"field\",\"field\":\"color\",\"transform\":{\"id\":\"d68d02ba-4255-4566-bae2-ee90f0e18772\"}}}},\"selection_glyph\":{\"type\":\"object\",\"name\":\"Scatter\",\"id\":\"decfde30-fa95-4ccf-89c4-6a1d9e4dff3d\",\"attributes\":{\"tags\":[\"apply_ranges\"],\"x\":{\"type\":\"field\",\"field\":\"x\"},\"y\":{\"type\":\"field\",\"field\":\"y\"},\"size\":{\"type\":\"value\",\"value\":5.477225575051661},\"line_color\":{\"type\":\"field\",\"field\":\"color\",\"transform\":{\"id\":\"d68d02ba-4255-4566-bae2-ee90f0e18772\"}},\"fill_color\":{\"type\":\"field\",\"field\":\"color\",\"transform\":{\"id\":\"d68d02ba-4255-4566-bae2-ee90f0e18772\"}},\"hatch_color\":{\"type\":\"field\",\"field\":\"color\",\"transform\":{\"id\":\"d68d02ba-4255-4566-bae2-ee90f0e18772\"}}}},\"nonselection_glyph\":{\"type\":\"object\",\"name\":\"Scatter\",\"id\":\"7ae178bf-3a87-4b24-ab6a-15391f145961\",\"attributes\":{\"tags\":[\"apply_ranges\"],\"x\":{\"type\":\"field\",\"field\":\"x\"},\"y\":{\"type\":\"field\",\"field\":\"y\"},\"size\":{\"type\":\"value\",\"value\":5.477225575051661},\"line_color\":{\"type\":\"field\",\"field\":\"color\",\"transform\":{\"id\":\"d68d02ba-4255-4566-bae2-ee90f0e18772\"}},\"line_alpha\":{\"type\":\"value\",\"value\":0.1},\"fill_color\":{\"type\":\"field\",\"field\":\"color\",\"transform\":{\"id\":\"d68d02ba-4255-4566-bae2-ee90f0e18772\"}},\"fill_alpha\":{\"type\":\"value\",\"value\":0.1},\"hatch_color\":{\"type\":\"field\",\"field\":\"color\",\"transform\":{\"id\":\"d68d02ba-4255-4566-bae2-ee90f0e18772\"}},\"hatch_alpha\":{\"type\":\"value\",\"value\":0.1}}},\"hover_glyph\":{\"type\":\"object\",\"name\":\"Scatter\",\"id\":\"eb7bac2e-a3ee-42c9-93c1-e4024812be03\",\"attributes\":{\"tags\":[\"apply_ranges\"],\"x\":{\"type\":\"field\",\"field\":\"x\"},\"y\":{\"type\":\"field\",\"field\":\"y\"},\"size\":{\"type\":\"value\",\"value\":5.477225575051661},\"line_color\":{\"type\":\"field\",\"field\":\"color\",\"transform\":{\"id\":\"d68d02ba-4255-4566-bae2-ee90f0e18772\"}},\"fill_color\":{\"type\":\"field\",\"field\":\"color\",\"transform\":{\"id\":\"d68d02ba-4255-4566-bae2-ee90f0e18772\"}},\"hatch_color\":{\"type\":\"field\",\"field\":\"color\",\"transform\":{\"id\":\"d68d02ba-4255-4566-bae2-ee90f0e18772\"}}}},\"muted_glyph\":{\"type\":\"object\",\"name\":\"Scatter\",\"id\":\"1263b8ad-b7a5-4402-a967-43f022b8f8a8\",\"attributes\":{\"tags\":[\"apply_ranges\"],\"x\":{\"type\":\"field\",\"field\":\"x\"},\"y\":{\"type\":\"field\",\"field\":\"y\"},\"size\":{\"type\":\"value\",\"value\":5.477225575051661},\"line_color\":{\"type\":\"field\",\"field\":\"color\",\"transform\":{\"id\":\"d68d02ba-4255-4566-bae2-ee90f0e18772\"}},\"line_alpha\":{\"type\":\"value\",\"value\":0.2},\"fill_color\":{\"type\":\"field\",\"field\":\"color\",\"transform\":{\"id\":\"d68d02ba-4255-4566-bae2-ee90f0e18772\"}},\"fill_alpha\":{\"type\":\"value\",\"value\":0.2},\"hatch_color\":{\"type\":\"field\",\"field\":\"color\",\"transform\":{\"id\":\"d68d02ba-4255-4566-bae2-ee90f0e18772\"}},\"hatch_alpha\":{\"type\":\"value\",\"value\":0.2}}}}}],\"toolbar\":{\"type\":\"object\",\"name\":\"Toolbar\",\"id\":\"b00373fc-bcd4-4f1e-bd70-4eae4a3b0354\",\"attributes\":{\"tools\":[{\"type\":\"object\",\"name\":\"WheelZoomTool\",\"id\":\"dedf7847-2412-4174-90e9-5a51dd891c2e\",\"attributes\":{\"tags\":[\"hv_created\"],\"zoom_together\":\"none\"}},{\"type\":\"object\",\"name\":\"HoverTool\",\"id\":\"de10b710-86e6-4ca8-8e21-30e266539ad8\",\"attributes\":{\"tags\":[\"hv_created\"],\"renderers\":[{\"id\":\"66ba8322-720d-4852-8878-ea3633965c8c\"}],\"tooltips\":[[\"x\",\"@{x}\"],[\"y\",\"@{y}\"],[\"label\",\"@{label}\"]]}},{\"type\":\"object\",\"name\":\"SaveTool\",\"id\":\"ad7b956d-1e3e-45d5-af70-559a1444203c\"},{\"type\":\"object\",\"name\":\"PanTool\",\"id\":\"170e3999-8580-45e8-a5a6-b8053c5e5b11\"},{\"type\":\"object\",\"name\":\"BoxZoomTool\",\"id\":\"029a1a7c-57ad-414a-bfd1-1e28a0c5f0c9\",\"attributes\":{\"overlay\":{\"type\":\"object\",\"name\":\"BoxAnnotation\",\"id\":\"479e038d-5df6-4bc6-b53b-495825b34909\",\"attributes\":{\"syncable\":false,\"level\":\"overlay\",\"visible\":false,\"left_units\":\"canvas\",\"right_units\":\"canvas\",\"bottom_units\":\"canvas\",\"top_units\":\"canvas\",\"line_color\":\"black\",\"line_alpha\":1.0,\"line_width\":2,\"line_dash\":[4,4],\"fill_color\":\"lightgrey\",\"fill_alpha\":0.5}}}},{\"type\":\"object\",\"name\":\"ResetTool\",\"id\":\"22c211f1-84c2-45d7-a816-508992991e80\"}],\"active_drag\":{\"id\":\"170e3999-8580-45e8-a5a6-b8053c5e5b11\"},\"active_scroll\":{\"id\":\"dedf7847-2412-4174-90e9-5a51dd891c2e\"}}},\"left\":[{\"type\":\"object\",\"name\":\"LinearAxis\",\"id\":\"90c6400d-7ec1-47d1-a048-64a59f0ef316\",\"attributes\":{\"ticker\":{\"type\":\"object\",\"name\":\"BasicTicker\",\"id\":\"e4b190b5-370c-4fdb-afdf-0c401d708411\",\"attributes\":{\"mantissas\":[1,2,5]}},\"formatter\":{\"type\":\"object\",\"name\":\"BasicTickFormatter\",\"id\":\"0ff98b5d-4a3d-409c-8cbe-e0c0dfb5fecc\"},\"axis_label\":\"y\",\"major_label_policy\":{\"type\":\"object\",\"name\":\"AllLabels\",\"id\":\"b747cd46-acf2-4ce4-b971-f3d439ffd11e\"}}}],\"right\":[{\"type\":\"object\",\"name\":\"Legend\",\"id\":\"fd7bd016-8794-45d5-bf9c-e6e1bd6a864b\",\"attributes\":{\"location\":[0,0],\"items\":[{\"type\":\"object\",\"name\":\"LegendItem\",\"id\":\"d67f5266-3cb0-4972-b446-f8e4ddf601e5\",\"attributes\":{\"label\":{\"type\":\"field\",\"field\":\"color\"},\"renderers\":[{\"id\":\"66ba8322-720d-4852-8878-ea3633965c8c\"}]}}]}}],\"below\":[{\"type\":\"object\",\"name\":\"LinearAxis\",\"id\":\"035c7dde-11ea-4554-ac69-12ab952199e6\",\"attributes\":{\"ticker\":{\"type\":\"object\",\"name\":\"BasicTicker\",\"id\":\"8ed3991f-fd0f-472d-a918-2a0b2412921b\",\"attributes\":{\"mantissas\":[1,2,5]}},\"formatter\":{\"type\":\"object\",\"name\":\"BasicTickFormatter\",\"id\":\"9f99c9b2-9b20-46b1-90a0-0b220e06bf1e\"},\"axis_label\":\"x\",\"major_label_policy\":{\"type\":\"object\",\"name\":\"AllLabels\",\"id\":\"cea0bfd2-ae91-40c6-9c74-a441175fe1cd\"}}}],\"center\":[{\"type\":\"object\",\"name\":\"Grid\",\"id\":\"3abbd674-b964-4334-bca1-0d64c183c509\",\"attributes\":{\"axis\":{\"id\":\"035c7dde-11ea-4554-ac69-12ab952199e6\"},\"ticker\":{\"id\":\"8ed3991f-fd0f-472d-a918-2a0b2412921b\"}}},{\"type\":\"object\",\"name\":\"Grid\",\"id\":\"91bb8b62-4d37-46e6-8dae-168f1b29008d\",\"attributes\":{\"dimension\":1,\"axis\":{\"id\":\"90c6400d-7ec1-47d1-a048-64a59f0ef316\"},\"ticker\":{\"id\":\"e4b190b5-370c-4fdb-afdf-0c401d708411\"}}},{\"id\":\"fd7bd016-8794-45d5-bf9c-e6e1bd6a864b\"}],\"min_border_top\":10,\"min_border_bottom\":10,\"min_border_left\":10,\"min_border_right\":10,\"output_backend\":\"webgl\"}},{\"type\":\"object\",\"name\":\"Spacer\",\"id\":\"80b26b50-46dc-46ef-9c44-6ba3b0e4097b\",\"attributes\":{\"name\":\"HSpacer00914\",\"stylesheets\":[\"\\n:host(.pn-loading.pn-arc):before, .pn-loading.pn-arc:before {\\n  background-image: url(\\\"data:image/svg+xml;base64,PHN2ZyB4bWxucz0iaHR0cDovL3d3dy53My5vcmcvMjAwMC9zdmciIHN0eWxlPSJtYXJnaW46IGF1dG87IGJhY2tncm91bmQ6IG5vbmU7IGRpc3BsYXk6IGJsb2NrOyBzaGFwZS1yZW5kZXJpbmc6IGF1dG87IiB2aWV3Qm94PSIwIDAgMTAwIDEwMCIgcHJlc2VydmVBc3BlY3RSYXRpbz0ieE1pZFlNaWQiPiAgPGNpcmNsZSBjeD0iNTAiIGN5PSI1MCIgZmlsbD0ibm9uZSIgc3Ryb2tlPSIjYzNjM2MzIiBzdHJva2Utd2lkdGg9IjEwIiByPSIzNSIgc3Ryb2tlLWRhc2hhcnJheT0iMTY0LjkzMzYxNDMxMzQ2NDE1IDU2Ljk3Nzg3MTQzNzgyMTM4Ij4gICAgPGFuaW1hdGVUcmFuc2Zvcm0gYXR0cmlidXRlTmFtZT0idHJhbnNmb3JtIiB0eXBlPSJyb3RhdGUiIHJlcGVhdENvdW50PSJpbmRlZmluaXRlIiBkdXI9IjFzIiB2YWx1ZXM9IjAgNTAgNTA7MzYwIDUwIDUwIiBrZXlUaW1lcz0iMDsxIj48L2FuaW1hdGVUcmFuc2Zvcm0+ICA8L2NpcmNsZT48L3N2Zz4=\\\");\\n  background-size: auto calc(min(50%, 400px));\\n}\",{\"id\":\"69080042-a5fb-48b1-aeca-4d8fe80f55da\"},{\"id\":\"fbc27d96-c756-4021-b662-753bd3d74050\"},{\"id\":\"94bce877-6d89-456a-8536-cda9e755c8dd\"}],\"margin\":0,\"sizing_mode\":\"stretch_width\",\"align\":\"start\"}}]}}],\"defs\":[{\"type\":\"model\",\"name\":\"ReactiveHTML1\"},{\"type\":\"model\",\"name\":\"FlexBox1\",\"properties\":[{\"name\":\"align_content\",\"kind\":\"Any\",\"default\":\"flex-start\"},{\"name\":\"align_items\",\"kind\":\"Any\",\"default\":\"flex-start\"},{\"name\":\"flex_direction\",\"kind\":\"Any\",\"default\":\"row\"},{\"name\":\"flex_wrap\",\"kind\":\"Any\",\"default\":\"wrap\"},{\"name\":\"justify_content\",\"kind\":\"Any\",\"default\":\"flex-start\"}]},{\"type\":\"model\",\"name\":\"FloatPanel1\",\"properties\":[{\"name\":\"config\",\"kind\":\"Any\",\"default\":{\"type\":\"map\"}},{\"name\":\"contained\",\"kind\":\"Any\",\"default\":true},{\"name\":\"position\",\"kind\":\"Any\",\"default\":\"right-top\"},{\"name\":\"offsetx\",\"kind\":\"Any\",\"default\":null},{\"name\":\"offsety\",\"kind\":\"Any\",\"default\":null},{\"name\":\"theme\",\"kind\":\"Any\",\"default\":\"primary\"},{\"name\":\"status\",\"kind\":\"Any\",\"default\":\"normalized\"}]},{\"type\":\"model\",\"name\":\"GridStack1\",\"properties\":[{\"name\":\"mode\",\"kind\":\"Any\",\"default\":\"warn\"},{\"name\":\"ncols\",\"kind\":\"Any\",\"default\":null},{\"name\":\"nrows\",\"kind\":\"Any\",\"default\":null},{\"name\":\"allow_resize\",\"kind\":\"Any\",\"default\":true},{\"name\":\"allow_drag\",\"kind\":\"Any\",\"default\":true},{\"name\":\"state\",\"kind\":\"Any\",\"default\":[]}]},{\"type\":\"model\",\"name\":\"drag1\",\"properties\":[{\"name\":\"slider_width\",\"kind\":\"Any\",\"default\":5},{\"name\":\"slider_color\",\"kind\":\"Any\",\"default\":\"black\"},{\"name\":\"value\",\"kind\":\"Any\",\"default\":50}]},{\"type\":\"model\",\"name\":\"click1\",\"properties\":[{\"name\":\"terminal_output\",\"kind\":\"Any\",\"default\":\"\"},{\"name\":\"debug_name\",\"kind\":\"Any\",\"default\":\"\"},{\"name\":\"clears\",\"kind\":\"Any\",\"default\":0}]},{\"type\":\"model\",\"name\":\"FastWrapper1\",\"properties\":[{\"name\":\"object\",\"kind\":\"Any\",\"default\":null},{\"name\":\"style\",\"kind\":\"Any\",\"default\":null}]},{\"type\":\"model\",\"name\":\"NotificationAreaBase1\",\"properties\":[{\"name\":\"js_events\",\"kind\":\"Any\",\"default\":{\"type\":\"map\"}},{\"name\":\"position\",\"kind\":\"Any\",\"default\":\"bottom-right\"},{\"name\":\"_clear\",\"kind\":\"Any\",\"default\":0}]},{\"type\":\"model\",\"name\":\"NotificationArea1\",\"properties\":[{\"name\":\"js_events\",\"kind\":\"Any\",\"default\":{\"type\":\"map\"}},{\"name\":\"notifications\",\"kind\":\"Any\",\"default\":[]},{\"name\":\"position\",\"kind\":\"Any\",\"default\":\"bottom-right\"},{\"name\":\"_clear\",\"kind\":\"Any\",\"default\":0},{\"name\":\"types\",\"kind\":\"Any\",\"default\":[{\"type\":\"map\",\"entries\":[[\"type\",\"warning\"],[\"background\",\"#ffc107\"],[\"icon\",{\"type\":\"map\",\"entries\":[[\"className\",\"fas fa-exclamation-triangle\"],[\"tagName\",\"i\"],[\"color\",\"white\"]]}]]},{\"type\":\"map\",\"entries\":[[\"type\",\"info\"],[\"background\",\"#007bff\"],[\"icon\",{\"type\":\"map\",\"entries\":[[\"className\",\"fas fa-info-circle\"],[\"tagName\",\"i\"],[\"color\",\"white\"]]}]]}]}]},{\"type\":\"model\",\"name\":\"Notification\",\"properties\":[{\"name\":\"background\",\"kind\":\"Any\",\"default\":null},{\"name\":\"duration\",\"kind\":\"Any\",\"default\":3000},{\"name\":\"icon\",\"kind\":\"Any\",\"default\":null},{\"name\":\"message\",\"kind\":\"Any\",\"default\":\"\"},{\"name\":\"notification_type\",\"kind\":\"Any\",\"default\":null},{\"name\":\"_destroyed\",\"kind\":\"Any\",\"default\":false}]},{\"type\":\"model\",\"name\":\"TemplateActions1\",\"properties\":[{\"name\":\"open_modal\",\"kind\":\"Any\",\"default\":0},{\"name\":\"close_modal\",\"kind\":\"Any\",\"default\":0}]},{\"type\":\"model\",\"name\":\"BootstrapTemplateActions1\",\"properties\":[{\"name\":\"open_modal\",\"kind\":\"Any\",\"default\":0},{\"name\":\"close_modal\",\"kind\":\"Any\",\"default\":0}]},{\"type\":\"model\",\"name\":\"MaterialTemplateActions1\",\"properties\":[{\"name\":\"open_modal\",\"kind\":\"Any\",\"default\":0},{\"name\":\"close_modal\",\"kind\":\"Any\",\"default\":0}]}]}};\n",
       "  var render_items = [{\"docid\":\"47734b67-8d4a-470d-9538-087f6e3a38c2\",\"roots\":{\"2ea154ac-ba00-473a-992b-7352a1f0d0b5\":\"d09f7038-20fe-4607-8d1a-c74f3895a1d4\"},\"root_ids\":[\"2ea154ac-ba00-473a-992b-7352a1f0d0b5\"]}];\n",
       "  var docs = Object.values(docs_json)\n",
       "  if (!docs) {\n",
       "    return\n",
       "  }\n",
       "  const py_version = docs[0].version.replace('rc', '-rc.').replace('.dev', '-dev.')\n",
       "  const is_dev = py_version.indexOf(\"+\") !== -1 || py_version.indexOf(\"-\") !== -1\n",
       "  function embed_document(root) {\n",
       "    var Bokeh = get_bokeh(root)\n",
       "    Bokeh.embed.embed_items_notebook(docs_json, render_items);\n",
       "    for (const render_item of render_items) {\n",
       "      for (const root_id of render_item.root_ids) {\n",
       "\tconst id_el = document.getElementById(root_id)\n",
       "\tif (id_el.children.length && (id_el.children[0].className === 'bk-root')) {\n",
       "\t  const root_el = id_el.children[0]\n",
       "\t  root_el.id = root_el.id + '-rendered'\n",
       "\t}\n",
       "      }\n",
       "    }\n",
       "  }\n",
       "  function get_bokeh(root) {\n",
       "    if (root.Bokeh === undefined) {\n",
       "      return null\n",
       "    } else if (root.Bokeh.version !== py_version && !is_dev) {\n",
       "      if (root.Bokeh.versions === undefined || !root.Bokeh.versions.has(py_version)) {\n",
       "\treturn null\n",
       "      }\n",
       "      return root.Bokeh.versions.get(py_version);\n",
       "    } else if (root.Bokeh.version === py_version) {\n",
       "      return root.Bokeh\n",
       "    }\n",
       "    return null\n",
       "  }\n",
       "  function is_loaded(root) {\n",
       "    var Bokeh = get_bokeh(root)\n",
       "    return (Bokeh != null && Bokeh.Panel !== undefined)\n",
       "  }\n",
       "  if (is_loaded(root)) {\n",
       "    embed_document(root);\n",
       "  } else {\n",
       "    var attempts = 0;\n",
       "    var timer = setInterval(function(root) {\n",
       "      if (is_loaded(root)) {\n",
       "        clearInterval(timer);\n",
       "        embed_document(root);\n",
       "      } else if (document.readyState == \"complete\") {\n",
       "        attempts++;\n",
       "        if (attempts > 200) {\n",
       "          clearInterval(timer);\n",
       "\t  var Bokeh = get_bokeh(root)\n",
       "\t  if (Bokeh == null || Bokeh.Panel == null) {\n",
       "            console.warn(\"Panel: ERROR: Unable to run Panel code because Bokeh or Panel library is missing\");\n",
       "\t  } else {\n",
       "\t    console.warn(\"Panel: WARNING: Attempting to render but not all required libraries could be resolved.\")\n",
       "\t    embed_document(root)\n",
       "\t  }\n",
       "        }\n",
       "      }\n",
       "    }, 25, root)\n",
       "  }\n",
       "})(window);</script>"
      ],
      "text/plain": [
       ":Scatter   [x]   (y,label)"
      ]
     },
     "execution_count": 8,
     "metadata": {
      "application/vnd.holoviews_exec.v0+json": {
       "id": "2ea154ac-ba00-473a-992b-7352a1f0d0b5"
      }
     },
     "output_type": "execute_result"
    }
   ],
   "source": [
    "data.hvplot.scatter(\n",
    "    x='x',\n",
    "    y='y',\n",
    "    color='label',\n",
    ").opts(\n",
    "    title='Random Data',\n",
    "    show_grid=True,\n",
    ")"
   ]
  },
  {
   "cell_type": "markdown",
   "metadata": {},
   "source": [
    "\n",
    "It is simple enough to apply filters to the data and replot:"
   ]
  },
  {
   "cell_type": "code",
   "execution_count": 9,
   "metadata": {},
   "outputs": [
    {
     "data": {},
     "metadata": {},
     "output_type": "display_data"
    },
    {
     "data": {
      "application/vnd.holoviews_exec.v0+json": "",
      "text/html": [
       "<div id='1d1c87f8-6090-4b18-9118-61028075342b'>\n",
       "  <div id=\"c5a673f2-9e24-409d-a9c1-441a553d2b35\" data-root-id=\"1d1c87f8-6090-4b18-9118-61028075342b\" style=\"display: contents;\"></div>\n",
       "</div>\n",
       "<script type=\"application/javascript\">(function(root) {\n",
       "  var docs_json = {\"a74775d0-d13a-41d7-9ab6-0de91457e36b\":{\"version\":\"3.2.2\",\"title\":\"Bokeh Application\",\"roots\":[{\"type\":\"object\",\"name\":\"Row\",\"id\":\"1d1c87f8-6090-4b18-9118-61028075342b\",\"attributes\":{\"name\":\"Row01051\",\"tags\":[\"embedded\"],\"stylesheets\":[\"\\n:host(.pn-loading.pn-arc):before, .pn-loading.pn-arc:before {\\n  background-image: url(\\\"data:image/svg+xml;base64,PHN2ZyB4bWxucz0iaHR0cDovL3d3dy53My5vcmcvMjAwMC9zdmciIHN0eWxlPSJtYXJnaW46IGF1dG87IGJhY2tncm91bmQ6IG5vbmU7IGRpc3BsYXk6IGJsb2NrOyBzaGFwZS1yZW5kZXJpbmc6IGF1dG87IiB2aWV3Qm94PSIwIDAgMTAwIDEwMCIgcHJlc2VydmVBc3BlY3RSYXRpbz0ieE1pZFlNaWQiPiAgPGNpcmNsZSBjeD0iNTAiIGN5PSI1MCIgZmlsbD0ibm9uZSIgc3Ryb2tlPSIjYzNjM2MzIiBzdHJva2Utd2lkdGg9IjEwIiByPSIzNSIgc3Ryb2tlLWRhc2hhcnJheT0iMTY0LjkzMzYxNDMxMzQ2NDE1IDU2Ljk3Nzg3MTQzNzgyMTM4Ij4gICAgPGFuaW1hdGVUcmFuc2Zvcm0gYXR0cmlidXRlTmFtZT0idHJhbnNmb3JtIiB0eXBlPSJyb3RhdGUiIHJlcGVhdENvdW50PSJpbmRlZmluaXRlIiBkdXI9IjFzIiB2YWx1ZXM9IjAgNTAgNTA7MzYwIDUwIDUwIiBrZXlUaW1lcz0iMDsxIj48L2FuaW1hdGVUcmFuc2Zvcm0+ICA8L2NpcmNsZT48L3N2Zz4=\\\");\\n  background-size: auto calc(min(50%, 400px));\\n}\",{\"type\":\"object\",\"name\":\"ImportedStyleSheet\",\"id\":\"e15c9ed8-3d71-4372-be17-f41e56bac03b\",\"attributes\":{\"url\":\"https://cdn.holoviz.org/panel/1.2.2/dist/css/loading.css\"}},{\"type\":\"object\",\"name\":\"ImportedStyleSheet\",\"id\":\"a52958b6-47c4-48d7-a7e1-fbc89e9521c2\",\"attributes\":{\"url\":\"https://cdn.holoviz.org/panel/1.2.2/dist/css/listpanel.css\"}},{\"type\":\"object\",\"name\":\"ImportedStyleSheet\",\"id\":\"08a4f7b9-2293-4292-a4aa-17e285485579\",\"attributes\":{\"url\":\"https://cdn.holoviz.org/panel/1.2.2/dist/bundled/theme/default.css\"}},{\"type\":\"object\",\"name\":\"ImportedStyleSheet\",\"id\":\"b6f80826-a586-4681-ba0e-c2268b5f4a3d\",\"attributes\":{\"url\":\"https://cdn.holoviz.org/panel/1.2.2/dist/bundled/theme/native.css\"}}],\"min_width\":700,\"margin\":0,\"sizing_mode\":\"stretch_width\",\"align\":\"start\",\"children\":[{\"type\":\"object\",\"name\":\"Spacer\",\"id\":\"1736e228-de18-4330-943e-f87e15868498\",\"attributes\":{\"name\":\"HSpacer01062\",\"stylesheets\":[\"\\n:host(.pn-loading.pn-arc):before, .pn-loading.pn-arc:before {\\n  background-image: url(\\\"data:image/svg+xml;base64,PHN2ZyB4bWxucz0iaHR0cDovL3d3dy53My5vcmcvMjAwMC9zdmciIHN0eWxlPSJtYXJnaW46IGF1dG87IGJhY2tncm91bmQ6IG5vbmU7IGRpc3BsYXk6IGJsb2NrOyBzaGFwZS1yZW5kZXJpbmc6IGF1dG87IiB2aWV3Qm94PSIwIDAgMTAwIDEwMCIgcHJlc2VydmVBc3BlY3RSYXRpbz0ieE1pZFlNaWQiPiAgPGNpcmNsZSBjeD0iNTAiIGN5PSI1MCIgZmlsbD0ibm9uZSIgc3Ryb2tlPSIjYzNjM2MzIiBzdHJva2Utd2lkdGg9IjEwIiByPSIzNSIgc3Ryb2tlLWRhc2hhcnJheT0iMTY0LjkzMzYxNDMxMzQ2NDE1IDU2Ljk3Nzg3MTQzNzgyMTM4Ij4gICAgPGFuaW1hdGVUcmFuc2Zvcm0gYXR0cmlidXRlTmFtZT0idHJhbnNmb3JtIiB0eXBlPSJyb3RhdGUiIHJlcGVhdENvdW50PSJpbmRlZmluaXRlIiBkdXI9IjFzIiB2YWx1ZXM9IjAgNTAgNTA7MzYwIDUwIDUwIiBrZXlUaW1lcz0iMDsxIj48L2FuaW1hdGVUcmFuc2Zvcm0+ICA8L2NpcmNsZT48L3N2Zz4=\\\");\\n  background-size: auto calc(min(50%, 400px));\\n}\",{\"id\":\"e15c9ed8-3d71-4372-be17-f41e56bac03b\"},{\"id\":\"08a4f7b9-2293-4292-a4aa-17e285485579\"},{\"id\":\"b6f80826-a586-4681-ba0e-c2268b5f4a3d\"}],\"margin\":0,\"sizing_mode\":\"stretch_width\",\"align\":\"start\"}},{\"type\":\"object\",\"name\":\"Figure\",\"id\":\"606192c2-8bae-4845-af85-b2a13cf908f1\",\"attributes\":{\"width\":700,\"height\":300,\"margin\":[5,10],\"sizing_mode\":\"fixed\",\"align\":\"start\",\"x_range\":{\"type\":\"object\",\"name\":\"Range1d\",\"id\":\"57986c64-6ab5-4f75-8b29-c2b925ac54a4\",\"attributes\":{\"tags\":[[[\"x\",\"x\",null]],[]],\"start\":-0.035589827501245,\"end\":1.0202889737539538,\"reset_start\":-0.035589827501245,\"reset_end\":1.0202889737539538}},\"y_range\":{\"type\":\"object\",\"name\":\"Range1d\",\"id\":\"96b707c9-7949-4225-8fbb-09d132d398d6\",\"attributes\":{\"tags\":[[[\"y\",\"y\",null]],{\"type\":\"map\",\"entries\":[[\"invert_yaxis\",false],[\"autorange\",false]]}],\"start\":0.20022958436897265,\"end\":0.7978151473249551,\"reset_start\":0.20022958436897265,\"reset_end\":0.7978151473249551}},\"x_scale\":{\"type\":\"object\",\"name\":\"LinearScale\",\"id\":\"9d8c2d48-46c9-4833-affb-1aff0e2fa69c\"},\"y_scale\":{\"type\":\"object\",\"name\":\"LinearScale\",\"id\":\"de542d8e-4b30-433a-b66c-baeff7f90d83\"},\"title\":{\"type\":\"object\",\"name\":\"Title\",\"id\":\"736eab1e-1e9d-4851-9f81-4bd210a70411\",\"attributes\":{\"text\":\"Random Data: 0.25 < bar < 0.75\",\"text_color\":\"black\",\"text_font_size\":\"12pt\"}},\"renderers\":[{\"type\":\"object\",\"name\":\"GlyphRenderer\",\"id\":\"fe57be2d-434b-4abf-b71f-707b0976bb6b\",\"attributes\":{\"name\":\"color\",\"data_source\":{\"type\":\"object\",\"name\":\"ColumnDataSource\",\"id\":\"36efa4ea-d4e3-4ece-a4d6-51e4c2f74eca\",\"attributes\":{\"selected\":{\"type\":\"object\",\"name\":\"Selection\",\"id\":\"a859e7e1-bf24-4597-9cbd-92c05dd667a8\",\"attributes\":{\"indices\":[],\"line_indices\":[]}},\"selection_policy\":{\"type\":\"object\",\"name\":\"UnionRenderers\",\"id\":\"ffa2f830-d849-42ab-b85f-c4c23b47038c\"},\"data\":{\"type\":\"map\",\"entries\":[[\"x\",{\"type\":\"ndarray\",\"array\":{\"type\":\"bytes\",\"data\":\"ykKxFzOn0z+HAGtP7rrjP822//0mlNg/zlul0LPE2j/vRUESkQTUPz11cAop9MI/oikRxDL66D9d/bLw1qivP85UlqYk/tI/meU+MkGS5z/7HisjK3SkP7NFBe8BIeQ/A+iwMnIp5D/ipMCbaYjiP+HBBEDYC+o//GEHeKMKlj9mVy+SgVzePz1loT4DFNo/870OkumevT+LcLesEoniP5+uCWzWJeQ/D4c6Lyow6T89zmfc1n6SPwerBhy9oNg/78z87abQwz9KLSvr/RvoP4VRrFVt2eo/NF1auUE04z9X0HSo5xCHP9HCo+7n7dE/+YfdWSZJxD+g93g/aPF4P9hzCrxiUM4/VS/7KHlE7j96Ukdswd/BP5++emZ/k38/DrfY8Lc+6j+TzDL4xFDvP36PKmu3tt8/mwaJrL010j9hc0Mh7EDsP983MNnQjek/vuqSvIvI5T/gviXSXK7pPx5ekq1LD6w/xUM6CC534j/5+bR3/53YPyxmBFInIuc/wJ94oy7Isz9wMej4Z8/LP3R8Tsyaeco/GF+Qh5lh0T9SQ5kqicPuP+V5x2SfeuE/sjxKzl+45z8Mxel5ITrgP7eOIq+i26Q/HCF8xmFo7T8UveUpRb/jP+IV4MlfBeM/KvR4uryLxz/Y8NqT7cTmP1wKzN2CkdI/OQnAMORx6T9yLdMvIFPePxoYirIN2sU/Pfiq0HDr6z+3fOQN7ifeP/+yiNrXeNg/K2naiV9Q5T9A5n0we3rbP5XAEW8eP+4/xq/tw1aO5z/YlAMY5X7YPzGSX6MWK9c/wr/hZcJF2T+5svJ1+znrP01oOlhnT+4/rheQ5MSqxT/K9K417rmwP/TePb5bTeA/TJtcnLRG6j84pu8BBdvkP8pFbZ1G0rg/E+zulAZ2wz+LxYr2jZLPP9m0zoyH3cc/RiFVseDB6j8VIrZZ99LuPxklpzPfhuE/XU2csZuR4z+kb4u/OYnrP+0HG1cJyuM/dqPhLLqS2D9hvWXjb+TtPxlpQrVsxuc/8vNz+D547D/n6zxTkiG6P0I090Ctzeo/LmfYBd/a0j8EZPlxEeLRPywBiE/I6d4/H0WEgtqu4T+OXzE4j3HKP/qi27B9H8c/CZMmZv+e5D+cplx/9k/TP4RCxlNrH+0/tDTpXBl/yj/ww7hARf7uP5Vf8t1OeOE/wL777fqFzj+1i2k8b8LjPxYBF3Laq8U/vui++cZJ0z/VWqmi+MPVPwLvUUImj9U/sfBjf/BJ6D+3vJKpgEmdPxWhG4kJ/s8/Ne+i+3sDjT/NkinOHvnnP4fs1xxBp7Q/keJ4miVr7j+n9tD4HhLQPwq7LkRSAdw/G+yZTHww7j9eBDd6El3dP2KzVGrodec/4lpIMASG2D/+1qIftk/lP51B17XQAss/mKrRp0W26D/Jp5zkRu2uP7MxfezuE98/sstASMqBgz8GIxVm7a/pP4ntcIiWRMM/EucZz31Vwz/dg/16W6jeP/mm++7BpOQ/3B9MVRuq5z9wSMuIaE/eP9qnkLuDnag/LSYtvr0b7D/2Br83C3zSP/R8tFXANug/xT8cddmx6T+zs/7oY87kP7IPP2Ofaew/DjYgXKEq1j92jFWD92TnP6gY3ifDKeM/2tuBxWE0wD9VctQFeufpP3tZVYL1rN4/v3LEhsKwxD8gMryQjo/uP/tdQfArDeM/JuDjnv3b7T9JNUDOC1nsP97Rs37YH+U/\"},\"shape\":[162],\"dtype\":\"float64\",\"order\":\"little\"}],[\"y\",{\"type\":\"ndarray\",\"array\":{\"type\":\"bytes\",\"data\":\"z3psYdy34D+MRxmdOuzRP+D+Jfi4et8/Y58Q92vx1z+HM0lEYm7jP/3IZ1EPFdg/0M069SmA1D+Oe5D2aiveP01LkJQUuds/Epau9xO04D9e8oTwKyHeP2if1m5KcNU/2eUHqFSa4j9HAlBh2oHhP57y1G3eKOQ/VwEO3xSj4T/RlA/qKNrgP3oTuDUtiN8/b7AczVkk2T9x+jPc0LXgP8Lz306Ru9E/7sgsJxCl1z/swJnYKQ3SP9sQ7FVKx9c/5bz6/DM25j98kKXeMYjiPw5/QvRb4tY/bJA8/L/v5z8xM8p9+KDTP5GeiJqAn98/8k2O+Cjw2z+6hT6NulnnP5TffKVl0d8//azAcLl40T8ciIeDGo3cP7zaFvY+6eA/glKSeD4I5T9L2CBGT5DiP9jfM1vx4NY/snknIM2f1T+YYjfIYrHePzjpTAddNOc/52D2crPq5D9k8SmfH8HdP+MmDI7nWt0/UH81ph/Y4j8HBzR3TtbkP+1Mu9dbwOE/lkm1mocQ2D9YPT0bolPjP09/DNKlauA/znmj75/h3T+4ahGA+5LgP3HhW78vTt4/caMAixo85j93YisKdwDQP1Sb5KzOS+M/KAtFH/o04z/l4T+zV6jnP2YJVLr8/+Q/eKHXWUxd4j9nJe7rNUfZP1dE+3ovjuc/jq+f5XcO1D/OjAA2jergP/Naav14Et4/BWsewhMn1j/XQYR/o/jQP9NBV1Qzc+E/x2DGuIAp4j/M/WewKP7iP768rMazHNw/rRQ9eHJg4T9F56yqjB/UP/Cz9lLDu9s/LxnJf3uw4T/ShjEvgejfPyaJs6GuPuU/NZLATZl75z/1FwtWAcThP2T2YtDgiNA/XSdL/WK34D/HBcyrF2vnP57LwoQozeU/lVvIZ4nj4T/q8QKlkurRP6JkTI6to+A/KlZEPuiN1z8cre8l5VPkPzGVdIm0fN0/Xbe86i1n0T+J+BPzlPrlPzWOgILcEdg/knxMuVb53z/AzV0HeqfgP+43fT0b1uA/mVsU47lc4j9JHVTQMivjP5d7m5HjMOM/7sK94XqI4j9dNu7fXSneP8mHXiFDN+Y/2Oi4qErz4z/RreaGsd3SPxWHd5efQeE/5iZc0Cy90j8jZI8XtZzXPxp0pvayWeA/y+Xq1YEa4z+F+8IdrFngP6IIYraGot8/QZuW/Cbj2z/wjV89QiPdPzTe2/g56OY/GGZNR/v92D8SQIkQggjjP8EG7MtbWOc/d+FmIJiE5j/ySJP0YRDjP5TArT00uuE/OJA0TKWy0T/CatTILmncP9eaywj6A94/o9g+ReWR0D/zj+7ImmDkP8wCJuCWAt0/jOTpLYId4D+9jQbb7mLWP9JgL7rS4tc/7U40wnFD5D/dJxh4uUbnPzhvZCad6NI/xFTKfkzK4z/RdifBPHnjP8EFHa8/Qds/wjDJMYS+1D+sCpe/CIfWP7D/9gevY9w/2DGlwa5C3T+2lQA0HFPmP2ZQDI+Z69E/vMuK9KyP0j+GA3Mnl2DWPwoOCI1HoOY/kq2YZK0I0D+iylDLtYTQP8Qn/TnLJ90/lA4rWUBN0T88vgisI77iP2FHfSKshdE/zfyTLCuZ4D9kYZkNObTSP+HMZk21vuA/4NJQOLoN3j9v/cKOT0XRP9yoaPwzP9g/4tlozU0h5D/qwv4y/BrkPxmJxlGzSeA/5F9TMMmV3z8YUR9npRTUP+g6zISyDeU/\"},\"shape\":[162],\"dtype\":\"float64\",\"order\":\"little\"}],[\"label\",[\"bar\",\"bar\",\"bar\",\"bar\",\"bar\",\"bar\",\"bar\",\"bar\",\"bar\",\"bar\",\"bar\",\"bar\",\"bar\",\"bar\",\"bar\",\"bar\",\"bar\",\"bar\",\"bar\",\"bar\",\"bar\",\"bar\",\"bar\",\"bar\",\"bar\",\"bar\",\"bar\",\"bar\",\"bar\",\"bar\",\"bar\",\"bar\",\"bar\",\"bar\",\"bar\",\"bar\",\"bar\",\"bar\",\"bar\",\"bar\",\"bar\",\"bar\",\"bar\",\"bar\",\"bar\",\"bar\",\"bar\",\"bar\",\"bar\",\"bar\",\"bar\",\"bar\",\"bar\",\"bar\",\"bar\",\"bar\",\"bar\",\"bar\",\"bar\",\"bar\",\"bar\",\"bar\",\"bar\",\"bar\",\"bar\",\"bar\",\"bar\",\"bar\",\"bar\",\"bar\",\"bar\",\"bar\",\"bar\",\"bar\",\"bar\",\"bar\",\"bar\",\"bar\",\"bar\",\"bar\",\"bar\",\"bar\",\"bar\",\"bar\",\"bar\",\"bar\",\"bar\",\"bar\",\"bar\",\"bar\",\"bar\",\"bar\",\"bar\",\"bar\",\"bar\",\"bar\",\"bar\",\"bar\",\"bar\",\"bar\",\"bar\",\"bar\",\"bar\",\"bar\",\"bar\",\"bar\",\"bar\",\"bar\",\"bar\",\"bar\",\"bar\",\"bar\",\"bar\",\"bar\",\"bar\",\"bar\",\"bar\",\"bar\",\"bar\",\"bar\",\"bar\",\"bar\",\"bar\",\"bar\",\"bar\",\"bar\",\"bar\",\"bar\",\"bar\",\"bar\",\"bar\",\"bar\",\"bar\",\"bar\",\"bar\",\"bar\",\"bar\",\"bar\",\"bar\",\"bar\",\"bar\",\"bar\",\"bar\",\"bar\",\"bar\",\"bar\",\"bar\",\"bar\",\"bar\",\"bar\",\"bar\",\"bar\",\"bar\",\"bar\",\"bar\",\"bar\",\"bar\",\"bar\",\"bar\",\"bar\",\"bar\",\"bar\"]],[\"color\",[\"bar\",\"bar\",\"bar\",\"bar\",\"bar\",\"bar\",\"bar\",\"bar\",\"bar\",\"bar\",\"bar\",\"bar\",\"bar\",\"bar\",\"bar\",\"bar\",\"bar\",\"bar\",\"bar\",\"bar\",\"bar\",\"bar\",\"bar\",\"bar\",\"bar\",\"bar\",\"bar\",\"bar\",\"bar\",\"bar\",\"bar\",\"bar\",\"bar\",\"bar\",\"bar\",\"bar\",\"bar\",\"bar\",\"bar\",\"bar\",\"bar\",\"bar\",\"bar\",\"bar\",\"bar\",\"bar\",\"bar\",\"bar\",\"bar\",\"bar\",\"bar\",\"bar\",\"bar\",\"bar\",\"bar\",\"bar\",\"bar\",\"bar\",\"bar\",\"bar\",\"bar\",\"bar\",\"bar\",\"bar\",\"bar\",\"bar\",\"bar\",\"bar\",\"bar\",\"bar\",\"bar\",\"bar\",\"bar\",\"bar\",\"bar\",\"bar\",\"bar\",\"bar\",\"bar\",\"bar\",\"bar\",\"bar\",\"bar\",\"bar\",\"bar\",\"bar\",\"bar\",\"bar\",\"bar\",\"bar\",\"bar\",\"bar\",\"bar\",\"bar\",\"bar\",\"bar\",\"bar\",\"bar\",\"bar\",\"bar\",\"bar\",\"bar\",\"bar\",\"bar\",\"bar\",\"bar\",\"bar\",\"bar\",\"bar\",\"bar\",\"bar\",\"bar\",\"bar\",\"bar\",\"bar\",\"bar\",\"bar\",\"bar\",\"bar\",\"bar\",\"bar\",\"bar\",\"bar\",\"bar\",\"bar\",\"bar\",\"bar\",\"bar\",\"bar\",\"bar\",\"bar\",\"bar\",\"bar\",\"bar\",\"bar\",\"bar\",\"bar\",\"bar\",\"bar\",\"bar\",\"bar\",\"bar\",\"bar\",\"bar\",\"bar\",\"bar\",\"bar\",\"bar\",\"bar\",\"bar\",\"bar\",\"bar\",\"bar\",\"bar\",\"bar\",\"bar\",\"bar\",\"bar\",\"bar\",\"bar\",\"bar\",\"bar\"]]]}}},\"view\":{\"type\":\"object\",\"name\":\"CDSView\",\"id\":\"566d3150-9ec6-4c9c-8b7a-f06b3a49710f\",\"attributes\":{\"filter\":{\"type\":\"object\",\"name\":\"AllIndices\",\"id\":\"88888369-3aa3-49bc-bf82-294732ad87d6\"}}},\"glyph\":{\"type\":\"object\",\"name\":\"Scatter\",\"id\":\"f42fd315-4064-4683-9833-96c012c3a95d\",\"attributes\":{\"tags\":[\"apply_ranges\"],\"x\":{\"type\":\"field\",\"field\":\"x\"},\"y\":{\"type\":\"field\",\"field\":\"y\"},\"size\":{\"type\":\"value\",\"value\":5.477225575051661},\"line_color\":{\"type\":\"field\",\"field\":\"color\",\"transform\":{\"type\":\"object\",\"name\":\"CategoricalColorMapper\",\"id\":\"c0e153e1-b350-4ad8-8374-718ad793f700\",\"attributes\":{\"palette\":[\"#1f77b3\"],\"factors\":[\"bar\"]}}},\"fill_color\":{\"type\":\"field\",\"field\":\"color\",\"transform\":{\"id\":\"c0e153e1-b350-4ad8-8374-718ad793f700\"}},\"hatch_color\":{\"type\":\"field\",\"field\":\"color\",\"transform\":{\"id\":\"c0e153e1-b350-4ad8-8374-718ad793f700\"}}}},\"selection_glyph\":{\"type\":\"object\",\"name\":\"Scatter\",\"id\":\"e22db0af-b6bb-404e-9216-f92f62cbcf08\",\"attributes\":{\"tags\":[\"apply_ranges\"],\"x\":{\"type\":\"field\",\"field\":\"x\"},\"y\":{\"type\":\"field\",\"field\":\"y\"},\"size\":{\"type\":\"value\",\"value\":5.477225575051661},\"line_color\":{\"type\":\"field\",\"field\":\"color\",\"transform\":{\"id\":\"c0e153e1-b350-4ad8-8374-718ad793f700\"}},\"fill_color\":{\"type\":\"field\",\"field\":\"color\",\"transform\":{\"id\":\"c0e153e1-b350-4ad8-8374-718ad793f700\"}},\"hatch_color\":{\"type\":\"field\",\"field\":\"color\",\"transform\":{\"id\":\"c0e153e1-b350-4ad8-8374-718ad793f700\"}}}},\"nonselection_glyph\":{\"type\":\"object\",\"name\":\"Scatter\",\"id\":\"20bfcfb9-fcf5-4cd8-a0fa-fd140e5f8eb9\",\"attributes\":{\"tags\":[\"apply_ranges\"],\"x\":{\"type\":\"field\",\"field\":\"x\"},\"y\":{\"type\":\"field\",\"field\":\"y\"},\"size\":{\"type\":\"value\",\"value\":5.477225575051661},\"line_color\":{\"type\":\"field\",\"field\":\"color\",\"transform\":{\"id\":\"c0e153e1-b350-4ad8-8374-718ad793f700\"}},\"line_alpha\":{\"type\":\"value\",\"value\":0.1},\"fill_color\":{\"type\":\"field\",\"field\":\"color\",\"transform\":{\"id\":\"c0e153e1-b350-4ad8-8374-718ad793f700\"}},\"fill_alpha\":{\"type\":\"value\",\"value\":0.1},\"hatch_color\":{\"type\":\"field\",\"field\":\"color\",\"transform\":{\"id\":\"c0e153e1-b350-4ad8-8374-718ad793f700\"}},\"hatch_alpha\":{\"type\":\"value\",\"value\":0.1}}},\"hover_glyph\":{\"type\":\"object\",\"name\":\"Scatter\",\"id\":\"181240db-e27e-454a-a3b3-2f7067230645\",\"attributes\":{\"tags\":[\"apply_ranges\"],\"x\":{\"type\":\"field\",\"field\":\"x\"},\"y\":{\"type\":\"field\",\"field\":\"y\"},\"size\":{\"type\":\"value\",\"value\":5.477225575051661},\"line_color\":{\"type\":\"field\",\"field\":\"color\",\"transform\":{\"id\":\"c0e153e1-b350-4ad8-8374-718ad793f700\"}},\"fill_color\":{\"type\":\"field\",\"field\":\"color\",\"transform\":{\"id\":\"c0e153e1-b350-4ad8-8374-718ad793f700\"}},\"hatch_color\":{\"type\":\"field\",\"field\":\"color\",\"transform\":{\"id\":\"c0e153e1-b350-4ad8-8374-718ad793f700\"}}}},\"muted_glyph\":{\"type\":\"object\",\"name\":\"Scatter\",\"id\":\"22d4138c-d7f0-4c58-beee-a30f04ecb169\",\"attributes\":{\"tags\":[\"apply_ranges\"],\"x\":{\"type\":\"field\",\"field\":\"x\"},\"y\":{\"type\":\"field\",\"field\":\"y\"},\"size\":{\"type\":\"value\",\"value\":5.477225575051661},\"line_color\":{\"type\":\"field\",\"field\":\"color\",\"transform\":{\"id\":\"c0e153e1-b350-4ad8-8374-718ad793f700\"}},\"line_alpha\":{\"type\":\"value\",\"value\":0.2},\"fill_color\":{\"type\":\"field\",\"field\":\"color\",\"transform\":{\"id\":\"c0e153e1-b350-4ad8-8374-718ad793f700\"}},\"fill_alpha\":{\"type\":\"value\",\"value\":0.2},\"hatch_color\":{\"type\":\"field\",\"field\":\"color\",\"transform\":{\"id\":\"c0e153e1-b350-4ad8-8374-718ad793f700\"}},\"hatch_alpha\":{\"type\":\"value\",\"value\":0.2}}}}}],\"toolbar\":{\"type\":\"object\",\"name\":\"Toolbar\",\"id\":\"a3419e47-8d94-4ef9-aed9-af6932aac435\",\"attributes\":{\"tools\":[{\"type\":\"object\",\"name\":\"WheelZoomTool\",\"id\":\"af697d1c-ec84-4653-a018-cc423acf7d7f\",\"attributes\":{\"tags\":[\"hv_created\"],\"zoom_together\":\"none\"}},{\"type\":\"object\",\"name\":\"HoverTool\",\"id\":\"e7e2ddfd-5c17-4d09-bfba-8ec7cb5e32d5\",\"attributes\":{\"tags\":[\"hv_created\"],\"renderers\":[{\"id\":\"fe57be2d-434b-4abf-b71f-707b0976bb6b\"}],\"tooltips\":[[\"x\",\"@{x}\"],[\"y\",\"@{y}\"],[\"label\",\"@{label}\"]]}},{\"type\":\"object\",\"name\":\"SaveTool\",\"id\":\"28e6852e-61f3-41bd-ad91-732ff25c712d\"},{\"type\":\"object\",\"name\":\"PanTool\",\"id\":\"778d0ffb-c714-4de5-a3bd-38162378de08\"},{\"type\":\"object\",\"name\":\"BoxZoomTool\",\"id\":\"749e89d2-7fbf-4309-b914-77159d5035da\",\"attributes\":{\"overlay\":{\"type\":\"object\",\"name\":\"BoxAnnotation\",\"id\":\"f726d07d-c127-4452-9c70-52b7b3f00684\",\"attributes\":{\"syncable\":false,\"level\":\"overlay\",\"visible\":false,\"left_units\":\"canvas\",\"right_units\":\"canvas\",\"bottom_units\":\"canvas\",\"top_units\":\"canvas\",\"line_color\":\"black\",\"line_alpha\":1.0,\"line_width\":2,\"line_dash\":[4,4],\"fill_color\":\"lightgrey\",\"fill_alpha\":0.5}}}},{\"type\":\"object\",\"name\":\"ResetTool\",\"id\":\"2161200d-51d8-4f05-a3af-ffeed23abc18\"}],\"active_drag\":{\"id\":\"778d0ffb-c714-4de5-a3bd-38162378de08\"},\"active_scroll\":{\"id\":\"af697d1c-ec84-4653-a018-cc423acf7d7f\"}}},\"left\":[{\"type\":\"object\",\"name\":\"LinearAxis\",\"id\":\"c173e57a-96ac-4b97-8916-b36826288eb7\",\"attributes\":{\"ticker\":{\"type\":\"object\",\"name\":\"BasicTicker\",\"id\":\"228b27d5-2da0-43c6-a281-986422e595e3\",\"attributes\":{\"mantissas\":[1,2,5]}},\"formatter\":{\"type\":\"object\",\"name\":\"BasicTickFormatter\",\"id\":\"1724168d-bb78-4ea0-84a6-8284ffb259bd\"},\"axis_label\":\"y\",\"major_label_policy\":{\"type\":\"object\",\"name\":\"AllLabels\",\"id\":\"16cbd228-8c45-4e24-9905-af397ad1945b\"}}}],\"right\":[{\"type\":\"object\",\"name\":\"Legend\",\"id\":\"92849251-2dde-4cd3-ae35-7d04862dd001\",\"attributes\":{\"location\":[0,0],\"items\":[{\"type\":\"object\",\"name\":\"LegendItem\",\"id\":\"d2cc6248-e09a-4842-99ff-d7263ee55afc\",\"attributes\":{\"label\":{\"type\":\"field\",\"field\":\"color\"},\"renderers\":[{\"id\":\"fe57be2d-434b-4abf-b71f-707b0976bb6b\"}]}}]}}],\"below\":[{\"type\":\"object\",\"name\":\"LinearAxis\",\"id\":\"f1918b87-8804-4cd5-abcd-e34af3286c07\",\"attributes\":{\"ticker\":{\"type\":\"object\",\"name\":\"BasicTicker\",\"id\":\"4c3a52ef-4cec-4149-a551-2fd59d77ffa1\",\"attributes\":{\"mantissas\":[1,2,5]}},\"formatter\":{\"type\":\"object\",\"name\":\"BasicTickFormatter\",\"id\":\"5f33a64e-fdd8-4dfd-ba7a-b1eaf207cda4\"},\"axis_label\":\"x\",\"major_label_policy\":{\"type\":\"object\",\"name\":\"AllLabels\",\"id\":\"e87420a0-f05c-4473-bb20-5c903874a6b7\"}}}],\"center\":[{\"type\":\"object\",\"name\":\"Grid\",\"id\":\"abc05be3-d040-49be-bb23-0e4ff97026fb\",\"attributes\":{\"axis\":{\"id\":\"f1918b87-8804-4cd5-abcd-e34af3286c07\"},\"ticker\":{\"id\":\"4c3a52ef-4cec-4149-a551-2fd59d77ffa1\"}}},{\"type\":\"object\",\"name\":\"Grid\",\"id\":\"5ee90561-ad28-4847-a83b-43ee7e41afc5\",\"attributes\":{\"dimension\":1,\"axis\":{\"id\":\"c173e57a-96ac-4b97-8916-b36826288eb7\"},\"ticker\":{\"id\":\"228b27d5-2da0-43c6-a281-986422e595e3\"}}},{\"id\":\"92849251-2dde-4cd3-ae35-7d04862dd001\"}],\"min_border_top\":10,\"min_border_bottom\":10,\"min_border_left\":10,\"min_border_right\":10,\"output_backend\":\"webgl\"}},{\"type\":\"object\",\"name\":\"Spacer\",\"id\":\"5763d27a-92c8-41bd-87aa-5a4483ab0ebe\",\"attributes\":{\"name\":\"HSpacer01065\",\"stylesheets\":[\"\\n:host(.pn-loading.pn-arc):before, .pn-loading.pn-arc:before {\\n  background-image: url(\\\"data:image/svg+xml;base64,PHN2ZyB4bWxucz0iaHR0cDovL3d3dy53My5vcmcvMjAwMC9zdmciIHN0eWxlPSJtYXJnaW46IGF1dG87IGJhY2tncm91bmQ6IG5vbmU7IGRpc3BsYXk6IGJsb2NrOyBzaGFwZS1yZW5kZXJpbmc6IGF1dG87IiB2aWV3Qm94PSIwIDAgMTAwIDEwMCIgcHJlc2VydmVBc3BlY3RSYXRpbz0ieE1pZFlNaWQiPiAgPGNpcmNsZSBjeD0iNTAiIGN5PSI1MCIgZmlsbD0ibm9uZSIgc3Ryb2tlPSIjYzNjM2MzIiBzdHJva2Utd2lkdGg9IjEwIiByPSIzNSIgc3Ryb2tlLWRhc2hhcnJheT0iMTY0LjkzMzYxNDMxMzQ2NDE1IDU2Ljk3Nzg3MTQzNzgyMTM4Ij4gICAgPGFuaW1hdGVUcmFuc2Zvcm0gYXR0cmlidXRlTmFtZT0idHJhbnNmb3JtIiB0eXBlPSJyb3RhdGUiIHJlcGVhdENvdW50PSJpbmRlZmluaXRlIiBkdXI9IjFzIiB2YWx1ZXM9IjAgNTAgNTA7MzYwIDUwIDUwIiBrZXlUaW1lcz0iMDsxIj48L2FuaW1hdGVUcmFuc2Zvcm0+ICA8L2NpcmNsZT48L3N2Zz4=\\\");\\n  background-size: auto calc(min(50%, 400px));\\n}\",{\"id\":\"e15c9ed8-3d71-4372-be17-f41e56bac03b\"},{\"id\":\"08a4f7b9-2293-4292-a4aa-17e285485579\"},{\"id\":\"b6f80826-a586-4681-ba0e-c2268b5f4a3d\"}],\"margin\":0,\"sizing_mode\":\"stretch_width\",\"align\":\"start\"}}]}}],\"defs\":[{\"type\":\"model\",\"name\":\"ReactiveHTML1\"},{\"type\":\"model\",\"name\":\"FlexBox1\",\"properties\":[{\"name\":\"align_content\",\"kind\":\"Any\",\"default\":\"flex-start\"},{\"name\":\"align_items\",\"kind\":\"Any\",\"default\":\"flex-start\"},{\"name\":\"flex_direction\",\"kind\":\"Any\",\"default\":\"row\"},{\"name\":\"flex_wrap\",\"kind\":\"Any\",\"default\":\"wrap\"},{\"name\":\"justify_content\",\"kind\":\"Any\",\"default\":\"flex-start\"}]},{\"type\":\"model\",\"name\":\"FloatPanel1\",\"properties\":[{\"name\":\"config\",\"kind\":\"Any\",\"default\":{\"type\":\"map\"}},{\"name\":\"contained\",\"kind\":\"Any\",\"default\":true},{\"name\":\"position\",\"kind\":\"Any\",\"default\":\"right-top\"},{\"name\":\"offsetx\",\"kind\":\"Any\",\"default\":null},{\"name\":\"offsety\",\"kind\":\"Any\",\"default\":null},{\"name\":\"theme\",\"kind\":\"Any\",\"default\":\"primary\"},{\"name\":\"status\",\"kind\":\"Any\",\"default\":\"normalized\"}]},{\"type\":\"model\",\"name\":\"GridStack1\",\"properties\":[{\"name\":\"mode\",\"kind\":\"Any\",\"default\":\"warn\"},{\"name\":\"ncols\",\"kind\":\"Any\",\"default\":null},{\"name\":\"nrows\",\"kind\":\"Any\",\"default\":null},{\"name\":\"allow_resize\",\"kind\":\"Any\",\"default\":true},{\"name\":\"allow_drag\",\"kind\":\"Any\",\"default\":true},{\"name\":\"state\",\"kind\":\"Any\",\"default\":[]}]},{\"type\":\"model\",\"name\":\"drag1\",\"properties\":[{\"name\":\"slider_width\",\"kind\":\"Any\",\"default\":5},{\"name\":\"slider_color\",\"kind\":\"Any\",\"default\":\"black\"},{\"name\":\"value\",\"kind\":\"Any\",\"default\":50}]},{\"type\":\"model\",\"name\":\"click1\",\"properties\":[{\"name\":\"terminal_output\",\"kind\":\"Any\",\"default\":\"\"},{\"name\":\"debug_name\",\"kind\":\"Any\",\"default\":\"\"},{\"name\":\"clears\",\"kind\":\"Any\",\"default\":0}]},{\"type\":\"model\",\"name\":\"FastWrapper1\",\"properties\":[{\"name\":\"object\",\"kind\":\"Any\",\"default\":null},{\"name\":\"style\",\"kind\":\"Any\",\"default\":null}]},{\"type\":\"model\",\"name\":\"NotificationAreaBase1\",\"properties\":[{\"name\":\"js_events\",\"kind\":\"Any\",\"default\":{\"type\":\"map\"}},{\"name\":\"position\",\"kind\":\"Any\",\"default\":\"bottom-right\"},{\"name\":\"_clear\",\"kind\":\"Any\",\"default\":0}]},{\"type\":\"model\",\"name\":\"NotificationArea1\",\"properties\":[{\"name\":\"js_events\",\"kind\":\"Any\",\"default\":{\"type\":\"map\"}},{\"name\":\"notifications\",\"kind\":\"Any\",\"default\":[]},{\"name\":\"position\",\"kind\":\"Any\",\"default\":\"bottom-right\"},{\"name\":\"_clear\",\"kind\":\"Any\",\"default\":0},{\"name\":\"types\",\"kind\":\"Any\",\"default\":[{\"type\":\"map\",\"entries\":[[\"type\",\"warning\"],[\"background\",\"#ffc107\"],[\"icon\",{\"type\":\"map\",\"entries\":[[\"className\",\"fas fa-exclamation-triangle\"],[\"tagName\",\"i\"],[\"color\",\"white\"]]}]]},{\"type\":\"map\",\"entries\":[[\"type\",\"info\"],[\"background\",\"#007bff\"],[\"icon\",{\"type\":\"map\",\"entries\":[[\"className\",\"fas fa-info-circle\"],[\"tagName\",\"i\"],[\"color\",\"white\"]]}]]}]}]},{\"type\":\"model\",\"name\":\"Notification\",\"properties\":[{\"name\":\"background\",\"kind\":\"Any\",\"default\":null},{\"name\":\"duration\",\"kind\":\"Any\",\"default\":3000},{\"name\":\"icon\",\"kind\":\"Any\",\"default\":null},{\"name\":\"message\",\"kind\":\"Any\",\"default\":\"\"},{\"name\":\"notification_type\",\"kind\":\"Any\",\"default\":null},{\"name\":\"_destroyed\",\"kind\":\"Any\",\"default\":false}]},{\"type\":\"model\",\"name\":\"TemplateActions1\",\"properties\":[{\"name\":\"open_modal\",\"kind\":\"Any\",\"default\":0},{\"name\":\"close_modal\",\"kind\":\"Any\",\"default\":0}]},{\"type\":\"model\",\"name\":\"BootstrapTemplateActions1\",\"properties\":[{\"name\":\"open_modal\",\"kind\":\"Any\",\"default\":0},{\"name\":\"close_modal\",\"kind\":\"Any\",\"default\":0}]},{\"type\":\"model\",\"name\":\"MaterialTemplateActions1\",\"properties\":[{\"name\":\"open_modal\",\"kind\":\"Any\",\"default\":0},{\"name\":\"close_modal\",\"kind\":\"Any\",\"default\":0}]}]}};\n",
       "  var render_items = [{\"docid\":\"a74775d0-d13a-41d7-9ab6-0de91457e36b\",\"roots\":{\"1d1c87f8-6090-4b18-9118-61028075342b\":\"c5a673f2-9e24-409d-a9c1-441a553d2b35\"},\"root_ids\":[\"1d1c87f8-6090-4b18-9118-61028075342b\"]}];\n",
       "  var docs = Object.values(docs_json)\n",
       "  if (!docs) {\n",
       "    return\n",
       "  }\n",
       "  const py_version = docs[0].version.replace('rc', '-rc.').replace('.dev', '-dev.')\n",
       "  const is_dev = py_version.indexOf(\"+\") !== -1 || py_version.indexOf(\"-\") !== -1\n",
       "  function embed_document(root) {\n",
       "    var Bokeh = get_bokeh(root)\n",
       "    Bokeh.embed.embed_items_notebook(docs_json, render_items);\n",
       "    for (const render_item of render_items) {\n",
       "      for (const root_id of render_item.root_ids) {\n",
       "\tconst id_el = document.getElementById(root_id)\n",
       "\tif (id_el.children.length && (id_el.children[0].className === 'bk-root')) {\n",
       "\t  const root_el = id_el.children[0]\n",
       "\t  root_el.id = root_el.id + '-rendered'\n",
       "\t}\n",
       "      }\n",
       "    }\n",
       "  }\n",
       "  function get_bokeh(root) {\n",
       "    if (root.Bokeh === undefined) {\n",
       "      return null\n",
       "    } else if (root.Bokeh.version !== py_version && !is_dev) {\n",
       "      if (root.Bokeh.versions === undefined || !root.Bokeh.versions.has(py_version)) {\n",
       "\treturn null\n",
       "      }\n",
       "      return root.Bokeh.versions.get(py_version);\n",
       "    } else if (root.Bokeh.version === py_version) {\n",
       "      return root.Bokeh\n",
       "    }\n",
       "    return null\n",
       "  }\n",
       "  function is_loaded(root) {\n",
       "    var Bokeh = get_bokeh(root)\n",
       "    return (Bokeh != null && Bokeh.Panel !== undefined)\n",
       "  }\n",
       "  if (is_loaded(root)) {\n",
       "    embed_document(root);\n",
       "  } else {\n",
       "    var attempts = 0;\n",
       "    var timer = setInterval(function(root) {\n",
       "      if (is_loaded(root)) {\n",
       "        clearInterval(timer);\n",
       "        embed_document(root);\n",
       "      } else if (document.readyState == \"complete\") {\n",
       "        attempts++;\n",
       "        if (attempts > 200) {\n",
       "          clearInterval(timer);\n",
       "\t  var Bokeh = get_bokeh(root)\n",
       "\t  if (Bokeh == null || Bokeh.Panel == null) {\n",
       "            console.warn(\"Panel: ERROR: Unable to run Panel code because Bokeh or Panel library is missing\");\n",
       "\t  } else {\n",
       "\t    console.warn(\"Panel: WARNING: Attempting to render but not all required libraries could be resolved.\")\n",
       "\t    embed_document(root)\n",
       "\t  }\n",
       "        }\n",
       "      }\n",
       "    }, 25, root)\n",
       "  }\n",
       "})(window);</script>"
      ],
      "text/plain": [
       ":Scatter   [x]   (y,label)"
      ]
     },
     "execution_count": 9,
     "metadata": {
      "application/vnd.holoviews_exec.v0+json": {
       "id": "1d1c87f8-6090-4b18-9118-61028075342b"
      }
     },
     "output_type": "execute_result"
    }
   ],
   "source": [
    "mask = (data.label == 'bar') & (data.y > 0.25) & (data.y < 0.75)\n",
    "data[mask].hvplot.scatter(\n",
    "    x='x',\n",
    "    y='y',\n",
    "    color='label'\n",
    ").opts(\n",
    "    title='Random Data: 0.25 < bar < 0.75',\n",
    "    show_grid=True\n",
    ")"
   ]
  },
  {
   "cell_type": "markdown",
   "metadata": {},
   "source": [
    "It immediately becomes a little cumbersome to remask and replot our data whenever we wish to view a different aspect of it. What if we have a way to select what labels we are viewing, and what range of the x and y values to consider? `panel` let's us do exactly that!\n",
    "\n",
    "We need two kinds of widgets here:\n",
    "\n",
    "* `FloatSlider`\n",
    "* `Select`"
   ]
  },
  {
   "cell_type": "code",
   "execution_count": 10,
   "id": "f3bd1ed8-9318-4071-9fa4-76248b340757",
   "metadata": {},
   "outputs": [
    {
     "data": {
      "application/vnd.jupyter.widget-view+json": {
       "model_id": "97922373cae14b60900cb886944ad13e",
       "version_major": 2,
       "version_minor": 0
      },
      "text/plain": [
       "BokehModel(combine_events=True, render_bundle={'docs_json': {'1c730da4-86a8-4a3f-800b-3386cd344c24': {'version…"
      ]
     },
     "execution_count": 10,
     "metadata": {},
     "output_type": "execute_result"
    }
   ],
   "source": [
    "label_selector = pn.widgets.Select(   # create a Select widget\n",
    "    name='Label',                     # name of the widget\n",
    "    options=['foo', 'bar', 'baz'],    # options for users to select from\n",
    ")\n",
    "x_slider = pn.widgets.FloatSlider( # create a FloatSlider\n",
    "    name='Min x',                  # name of the widget\n",
    "    start=0.0,                     # lower bound of the slider\n",
    "    end=1.0,                       # upper bound of the slider\n",
    "    step=0.01,                     # step value\n",
    "    value=0.0                      # default value of the slider\n",
    ")\n",
    "y_slider = pn.widgets.FloatSlider( # create a FloatSlider\n",
    "    name='Min Y',                  # name of the widget\n",
    "    start=0.0,                     # lower bound of the slider\n",
    "    end=1.0,                       # upper bound of the slider\n",
    "    step=0.01,                     # step value\n",
    "    value=0.0                      # default value of the slider\n",
    ")\n",
    "\n",
    "pn.Column(\n",
    "    label_selector,\n",
    "    x_slider,\n",
    "    y_slider,\n",
    ")"
   ]
  },
  {
   "cell_type": "markdown",
   "id": "e6f5b1a1-67f6-4733-b451-61badc3e6a4a",
   "metadata": {},
   "source": [
    "Cool right? Well it is, but we have not done anything yet! We need to tie these widgets to some visualization. `panel` makes this easy too. We just need to create a function to create the plot for us using values from our widgets!"
   ]
  },
  {
   "cell_type": "code",
   "execution_count": 11,
   "metadata": {},
   "outputs": [
    {
     "data": {
      "application/vnd.jupyter.widget-view+json": {
       "model_id": "8ffd086a038445599697c850c48cc592",
       "version_major": 2,
       "version_minor": 0
      },
      "text/plain": [
       "BokehModel(combine_events=True, render_bundle={'docs_json': {'c052738f-ca7c-47fc-b8b1-6f25fca7218a': {'version…"
      ]
     },
     "execution_count": 11,
     "metadata": {},
     "output_type": "execute_result"
    }
   ],
   "source": [
    "def plot_my_data(label, min_x, min_y):\n",
    "    # uses `data` from the global scope!\n",
    "    mask = (data.label == label) & (data.x >= min_x) & (data.y >= min_y)\n",
    "    return data[mask].hvplot.scatter(\n",
    "        x='x',\n",
    "        y='y',\n",
    "        color='label'\n",
    "    ).opts(\n",
    "        title='Random Data',\n",
    "        show_grid=True,\n",
    "        framewise=True\n",
    "    )\n",
    "\n",
    "label_selector = pn.widgets.Select(   # create a Select widget\n",
    "    name='Label',                     # name of the widget\n",
    "    options=['foo', 'bar', 'baz'],    # options for users to select from\n",
    ")\n",
    "x_slider = pn.widgets.FloatSlider( # create a FloatSlider\n",
    "    name='Min X',                  # name of the widget\n",
    "    start=0.0,                     # lower bound of the slider\n",
    "    end=1.0,                       # upper bound of the slider\n",
    "    step=0.01,                     # step value\n",
    "    value=0.0                      # default value of the slider\n",
    ")\n",
    "y_slider = pn.widgets.FloatSlider( # create a FloatSlider\n",
    "    name='Min Y',                  # name of the widget\n",
    "    start=0.0,                     # lower bound of the slider\n",
    "    end=1.0,                       # upper bound of the slider\n",
    "    step=0.01,                     # step value\n",
    "    value=0.0                      # default value of the slider\n",
    ")\n",
    "\n",
    "\n",
    "# we use `pn.interact` to connect our widgets to our plotting function\n",
    "# every argument in our function gets mapped to a widget using keyword-arguments\n",
    "interaction = pn.interact(plot_my_data, label=label_selector, min_x=x_slider, min_y=y_slider)\n",
    "interaction"
   ]
  },
  {
   "cell_type": "markdown",
   "metadata": {},
   "source": [
    "Woo! Interactive visualization! What are some issues here though?\n",
    "\n",
    "<details>\n",
    "<summary>SPOILER ALERT!</summary>\n",
    "\n",
    "Visually there are some issues...\n",
    "\n",
    "* No matter which label we pick, the scatter color is always blue!\n",
    "* As we slide values for x and y, the axis limits change!\n",
    "* If we pan or zoom, and then interact with the plot, the pan and zoom are reset!\n",
    "\n",
    "Functionally there are some issues...\n",
    "\n",
    "* We cannot select more than one label!\n",
    "* We are only controlling the minimum values for x, it would be nice to be able to control the maximum values too!\n",
    "\n",
    "</details>\n",
    "\n",
    "## Exercise\n",
    "\n",
    "Let's address the issues noted above.\n",
    "\n",
    "1. For the colors we need to define and supply a `cmap`; for this it is just a dictionary of labels to colors. This is provided as `cmaps` to the `opts` function\n",
    "2. For the axis limits we need to anchor them to the bounds of our data. This is provided as `xlim` and `ylim` to the `opts` function"
   ]
  },
  {
   "cell_type": "code",
   "execution_count": null,
   "metadata": {},
   "outputs": [],
   "source": []
  },
  {
   "cell_type": "markdown",
   "metadata": {},
   "source": [
    "## Exercise\n",
    "\n",
    "Let's use some diffrent widgets to handle the two functional issues. Copy the initial interactive plotting code, but let's create some new widgets to handle the features we are looking for.\n",
    "\n",
    "1. Use a `MultiSelect` widget. Note that the value of a `MultiSelect` widget is a tuple of values, so when creating the mask we should use the `isin` operator on the `label` column\n",
    "2. Use a `RangeSlider` widget. Note that the value of a `RangeSlider` widget is a tuple of values (min/max), so when creating the mask we need to index into the tuple to get the bounds"
   ]
  },
  {
   "cell_type": "code",
   "execution_count": null,
   "metadata": {},
   "outputs": [],
   "source": []
  },
  {
   "cell_type": "markdown",
   "id": "8ee62fa9-876f-4987-814f-bc2a2a13bb2f",
   "metadata": {},
   "source": [
    "It may be desirable to rearrange our widgets and plots, since the default layout may not be that great. Let's rearrange this so that our widgets are to the right of the plot:"
   ]
  },
  {
   "cell_type": "code",
   "execution_count": null,
   "metadata": {},
   "outputs": [],
   "source": [
    "def plot_my_data(labels, x_range, y_range):\n",
    "    # uses `data` from the global scope!\n",
    "    mask = (data.label.isin(labels)) & data.x.between(*x_range) & data.y.between(*y_range)\n",
    "    return data[mask].hvplot.scatter(\n",
    "        x='x',\n",
    "        y='y',\n",
    "        color='label'\n",
    "    ).opts(\n",
    "        cmap={'foo': 'red', 'bar': 'green', 'baz': 'blue'},\n",
    "        xlim=(0,1),\n",
    "        ylim=(0,1),\n",
    "        title='Random Data',\n",
    "        show_grid=True,\n",
    "        framewise=True\n",
    "    )\n",
    "\n",
    "label_selector = pn.widgets.MultiSelect(   # create a MultiSelect widget\n",
    "    name='Label',                     # name of the widget\n",
    "    options=['foo', 'bar', 'baz'],    # options for users to select from\n",
    ")\n",
    "x_slider = pn.widgets.RangeSlider( # create a RangeSlider\n",
    "    name='X-Range',                # name of the widget\n",
    "    start=0.0,                     # lower bound of the slider\n",
    "    end=1.0,                       # upper bound of the slider\n",
    "    step=0.01,                     # step value\n",
    "    value=(0.0, 1.0)               # default value of the slider\n",
    ")\n",
    "y_slider = pn.widgets.RangeSlider( # create a RangeSlider\n",
    "    name='Y-Range',                # name of the widget\n",
    "    start=0.0,                     # lower bound of the slider\n",
    "    end=1.0,                       # upper bound of the slider\n",
    "    step=0.01,                     # step value\n",
    "    value=(0.0, 1.0)               # default value of the slider\n",
    ")\n",
    "\n",
    "interaction = pn.interact(plot_my_data, labels=label_selector, x_range=x_slider, y_range=y_slider)\n",
    "\n",
    "# let's print the interaction and observe its contents\n",
    "print(interaction)"
   ]
  },
  {
   "cell_type": "markdown",
   "metadata": {},
   "source": [
    "We can see that the interaction is just a *column* consisting of another sub-column (containing our widgets) and a sub-row (containing our plot). We can index the interaction column like a list, and recompose them!"
   ]
  },
  {
   "cell_type": "code",
   "execution_count": null,
   "metadata": {},
   "outputs": [],
   "source": [
    "pn.Row(\n",
    "    interaction[1],\n",
    "    interaction[0]\n",
    ")"
   ]
  },
  {
   "cell_type": "markdown",
   "metadata": {},
   "source": [
    "## Dynamic Plots\n",
    "\n",
    "There is a more concise way to create our interactive plots that provides more flexibilty, especially when it comes time for composing complex interactive graphics. `holoviews` provides us with a *dynamic map* type that, along with `panel`, can be set up to connect many widgets and graphics together. The code largely looks the same, but there are some notable differences. "
   ]
  },
  {
   "cell_type": "code",
   "execution_count": null,
   "metadata": {},
   "outputs": [],
   "source": [
    "# define the widgets first!\n",
    "label_selector = pn.widgets.MultiSelect(\n",
    "    name='Label',\n",
    "    options=['foo', 'bar', 'baz'],\n",
    ")\n",
    "x_slider = pn.widgets.RangeSlider(\n",
    "    name='X-Range',\n",
    "    start=0.0,\n",
    "    end=1.0,\n",
    "    step=0.01,\n",
    "    value=(0.0, 1.0)\n",
    ")\n",
    "y_slider = pn.widgets.RangeSlider(\n",
    "    name='Y-Range',\n",
    "    start=0.0,\n",
    "    end=1.0,\n",
    "    step=0.01,\n",
    "    value=(0.0, 1.0)\n",
    ")\n",
    "\n",
    "\n",
    "# tell the plotting up front what it depends on!\n",
    "@pn.depends(labels=label_selector, x_range=x_slider, y_range=y_slider)\n",
    "def plot_my_data(labels, x_range, y_range):\n",
    "    # uses `data` from the global scope!\n",
    "    mask = (data.label.isin(labels)) & data.x.between(*x_range) & data.y.between(*y_range)\n",
    "    return data[mask].hvplot.scatter(\n",
    "        x='x',\n",
    "        y='y',\n",
    "        color='label'\n",
    "    ).opts(\n",
    "        cmap={'foo': 'red', 'bar': 'green', 'baz': 'blue'},\n",
    "        title='Random Data',\n",
    "    )\n",
    "\n",
    "# contruct a `hv.DynamicMap` from out plotting function!\n",
    "pn.Row(\n",
    "    hv.DynamicMap(plot_my_data),\n",
    "    pn.Column(\n",
    "        label_selector,\n",
    "        x_slider,\n",
    "        y_slider\n",
    "    )\n",
    ")"
   ]
  },
  {
   "cell_type": "markdown",
   "metadata": {},
   "source": [
    "Did you notice anything else different about this?\n",
    "\n",
    "<details>\n",
    "<summary>SPOILER ALERT!</summary>\n",
    "\n",
    "Our plot updates *much smoother*.\n",
    "\n",
    "</details>\n",
    "\n",
    " But why?\n",
    "\n",
    "<details>\n",
    "<summary>SPOILER ALERT!</summary>\n",
    "\n",
    "The `hv.DynamicMap` is a special object that is optimized in a specific way that not only listens to widget updates, but it also tells holoviews *to plot the data only once*, and subsequent updates simply *redraws the data*. Plotting is a very expensive operation, and updating the underlying data is more efficient than redrawing the entire plot!\n",
    "\n",
    "</details>"
   ]
  },
  {
   "cell_type": "markdown",
   "metadata": {},
   "source": [
    "This is deeply important to real-time interactive graphics. We want the user experience to be as smooth as possible, and `hv.DynamicMap` gives us that.\n",
    "\n",
    "From here the possibilities are seemingly endless. Any plot we can create in `holoviews` (https://holoviews.org/reference/index.html) we can interact with using `panel` (https://panel.holoviz.org/reference/index.html#). The only thing we need to aware of is how much computation we are putting in our plotting calls. We want to minimize any and all computations to avoid lag and slowdowns during visualization.\n",
    "\n",
    "There are tons of graphics, widgets, and layouts that we can use to tremendous effect to compose highly interactive graphics. This only barely scratches the surface!"
   ]
  }
 ],
 "metadata": {
  "kernelspec": {
   "display_name": "Python 3 (ipykernel)",
   "language": "python",
   "name": "python3"
  },
  "language_info": {
   "codemirror_mode": {
    "name": "ipython",
    "version": 3
   },
   "file_extension": ".py",
   "mimetype": "text/x-python",
   "name": "python",
   "nbconvert_exporter": "python",
   "pygments_lexer": "ipython3",
   "version": "3.11.5"
  }
 },
 "nbformat": 4,
 "nbformat_minor": 5
}
