{
 "cells": [
  {
   "cell_type": "markdown",
   "id": "e4da7513-245d-419d-8666-d6c84574804d",
   "metadata": {},
   "source": [
    "# More with `bokeh`\n",
    "\n",
    "There are two libraries that are primarily used for web-based visualization via Python: `bokeh` and `plotly`. While `plotly` has its merits and can be exceptionally useful *namely with 3D plotting*, we will be focusing entirely on `bokeh` and its associated technologies in this lecture. Tools like `panel` and `hvPlot`, while supporting many different tools and libraries, use `bokeh` as its default visualization library. `bokeh` has a number of methods for plotting data, and so we will take a look at these methods to start building an understanding on how they work.\n",
    "\n",
    "As we saw previously, we can also use `Holoviews` to abstract away from the specific plotting backend if we wish. It is useful to know how to try out all of these methods in practice. In any open source community, there will always be many (sometimes competing) tools available at any given time. It is advisable to test out each for a short period of time, note what makes it useful or less so for your project, and then make an informed decision. Avoid blindly committing to a tool for a particular project, but also avoid spending more time testing out different tools than you spend actually working on the core functionality of your project. Make a quick informed decision keeping in mind the unique considerations of your project, where it needs to function, who needs to use it, and what your goals are then then commit to a tool.\n",
    "\n",
    "## Getting Started\n",
    "\n",
    "The first thing we need to do is tell `bokeh` that it is going to be outputting plots for a Jupyter environment. Depending on where the plots are viewed they need to be rendered differently. We should see a note that `bokeh` was loaded properly a notebook."
   ]
  },
  {
   "cell_type": "code",
   "execution_count": null,
   "id": "b7c92a9e-fe0d-444a-94a5-bd7a23e6d708",
   "metadata": {},
   "outputs": [],
   "source": [
    "from bokeh.io import (\n",
    "    output_notebook,\n",
    ")  # import the utility to setup bokeh for Jupyter\n",
    "\n",
    "output_notebook()  # load the bokeh/Jupyter resources"
   ]
  },
  {
   "cell_type": "markdown",
   "id": "60512f40-88f1-4c1f-a9cb-33677b40b2e7",
   "metadata": {},
   "source": [
    "Now we are going to create a simple plot. We need to import some utility functions that allow us to create a figure to plot on and another method to render, or show, the plot."
   ]
  },
  {
   "cell_type": "code",
   "execution_count": null,
   "id": "5526d652-3aab-4f3e-bf18-7a70e5a84df8",
   "metadata": {},
   "outputs": [],
   "source": [
    "from bokeh.plotting import (\n",
    "    figure,\n",
    "    show,\n",
    ")  # import utilities for plotting/displaying\n",
    "\n",
    "p = figure()  # create a figure\n",
    "p.scatter(\n",
    "    [1, 2, 3, 4, 5], [1, 4, 9, 16, 25]\n",
    ")  # create a scatter plot of circles at the given x and y coordinates\n",
    "show(p)  # show the plot"
   ]
  },
  {
   "cell_type": "markdown",
   "id": "9cc1a3b9-1874-4731-9904-77aadb7feab4",
   "metadata": {},
   "source": [
    "We can achieve the exact same behavior specifying a data frame in place of the data directly, and then specifying column names to use for the axes."
   ]
  },
  {
   "cell_type": "code",
   "execution_count": null,
   "id": "eea235b4-97ef-47e3-950d-f575d292567a",
   "metadata": {},
   "outputs": [],
   "source": [
    "import numpy as np  # import numpy for making up some data\n",
    "import pandas as pd  # import pandas for data frames\n",
    "\n",
    "df = pd.DataFrame(\n",
    "    {  # create a data frame, break into multiple lines for easier reading\n",
    "        \"x\": np.arange(0, 100, 1),\n",
    "        \"y\": np.random.uniform(0, 10, 100),\n",
    "    }\n",
    ")\n",
    "\n",
    "p = figure()  # create a figure\n",
    "p.scatter(\n",
    "    x=\"x\", y=\"y\", source=df\n",
    ")  # create a scatter plot of circles at the given x and y coordinates, using the data frame. note the use of labels to specify the x and y values.\n",
    "show(p)  # show the plot"
   ]
  },
  {
   "cell_type": "markdown",
   "id": "442c65c6-9b2b-48bc-9ef4-6f6a7129f2e3",
   "metadata": {},
   "source": [
    "We can also achieve the exact same behavior using a tad more code. This code below uses a `ColumnDataSource` for specifying the data and axes to plot. The benefit here is that `bokeh` is built on top of the column data source structure, and so by constructing it ourselves we can control `bokeh` much more (generally with respect to interactivity)."
   ]
  },
  {
   "cell_type": "code",
   "execution_count": null,
   "id": "567123cb-100f-4589-8947-9ec8ac1f2ad4",
   "metadata": {},
   "outputs": [],
   "source": [
    "from bokeh.models import (\n",
    "    ColumnDataSource,\n",
    ")  # import ColumnDataSource for setting up data\n",
    "\n",
    "data = {  # create a dictionary of data, mapping 'x' and 'y' to arrays of data, break into multiple lines for easier reading\n",
    "    \"x\": np.arange(0, 100, 1),\n",
    "    \"y\": np.random.uniform(0, 10, 100),\n",
    "}\n",
    "\n",
    "source = ColumnDataSource(\n",
    "    data=data\n",
    ")  # create a column data source from the dictionary by setting the data attribute. we can also create this from a data frame!\n",
    "\n",
    "p = figure()  # create a figure\n",
    "p.scatter(\n",
    "    x=\"x\", y=\"y\", source=source\n",
    ")  # create a scatter plot of circles at the given x and y coordinates, using the column data source. note the use of labels to specify the x and y values.\n",
    "show(p)  # show the plot"
   ]
  },
  {
   "cell_type": "markdown",
   "id": "110bc0f3-462b-477a-b55c-c744b124ae9c",
   "metadata": {},
   "source": [
    "## Common Actions with `bokeh`\n",
    "\n",
    "It would be good to cover a few of the common things we will usually perform - like changing colors, sizes, marker types, and plot types."
   ]
  },
  {
   "cell_type": "markdown",
   "id": "bda3f1ef-ab42-4262-ba9b-000aa1f4cf80",
   "metadata": {
    "tags": []
   },
   "source": [
    "### Sizes\n",
    "\n",
    "Just as before we can adjust the sizes of our point by specifying `size`."
   ]
  },
  {
   "cell_type": "code",
   "execution_count": null,
   "id": "293327e6-e2b3-4043-a915-4fa90a7dd2e8",
   "metadata": {},
   "outputs": [],
   "source": [
    "p = figure()  # create a figure\n",
    "p.scatter(\n",
    "    df.x, df.y, size=5\n",
    ")  # create a scatter plot of circles at the given x and y coordinates, all sizes set to 5\n",
    "show(p)"
   ]
  },
  {
   "cell_type": "markdown",
   "id": "1b8ff704-b3da-4f11-adad-ff4bce58ac2e",
   "metadata": {},
   "source": [
    "Note that as we zoom in and out the size of our points retain the same size. This may not be entirely desirable as we may lose some context for the sizes. This is espcially important when the size of our markers are inherently related to the scales in which they are plotted!"
   ]
  },
  {
   "cell_type": "code",
   "execution_count": null,
   "id": "2a138994-d937-43ca-a5d8-704a085c2843",
   "metadata": {},
   "outputs": [],
   "source": [
    "sizes = np.random.uniform(0, 75, 100)  # create random set of sizes\n",
    "p = figure()  # create a figure\n",
    "p.scatter(\n",
    "    df.x, df.y, alpha=0.6, size=sizes\n",
    ")  # create a scatter plot of circles at the given x and y coordinates\n",
    "show(p)"
   ]
  },
  {
   "cell_type": "markdown",
   "id": "dd768b3e-f68c-469e-aa04-7406645c3b05",
   "metadata": {},
   "source": [
    "In the case where the size of the scatter points should be within the same scale as the axes, instead of specifying `size` we can specify `radius`. This tells `bokeh` to render the points in *data units*, and so it will match the scale of the data. Be careful though, as the data units are very different from *screen units*!"
   ]
  },
  {
   "cell_type": "code",
   "execution_count": null,
   "id": "58a8d2bf-6d1a-4a47-8021-4fe3c383c57c",
   "metadata": {},
   "outputs": [],
   "source": [
    "sizes = np.random.uniform(0, 5, 100)  # create random set of sizes\n",
    "p = figure()  # create a figure\n",
    "p.scatter(\n",
    "    df.x, df.y, alpha=0.6, radius=sizes\n",
    ")  # create a scatter plot of circles at the given x and y coordinates\n",
    "show(p)"
   ]
  },
  {
   "cell_type": "markdown",
   "id": "ebeaf6e5-8b8c-4a36-ab72-d559379e13c0",
   "metadata": {
    "tags": []
   },
   "source": [
    "### Colors\n",
    "\n",
    "Colors in `bokeh` can be handled a number of ways - one these ways is using RGB triplets to define them. We can also use HSL format, hex codes, and named colors."
   ]
  },
  {
   "cell_type": "code",
   "execution_count": null,
   "id": "5c49cc72-d6fa-4b22-9548-f4dcd8d56d93",
   "metadata": {
    "tags": []
   },
   "outputs": [],
   "source": [
    "colors = np.random.randint(\n",
    "    0, 256, (100, 3), dtype=\"uint8\"\n",
    ")  # generate random colors as RGB triplets\n",
    "p = figure()  # create a figure\n",
    "p.scatter(\n",
    "    df.x, df.y, radius=sizes, color=colors\n",
    ")  # create a scatter plot of circles at the given x and y coordinates\n",
    "show(p)  # show the plot"
   ]
  },
  {
   "cell_type": "code",
   "execution_count": null,
   "id": "542f00e1-a248-46f4-987f-e8c4eb33aa29",
   "metadata": {},
   "outputs": [],
   "source": [
    "colors = np.random.choice(\n",
    "    [\"#123456\", \"#789ABC\", \"#CEF012\"], 100\n",
    ")  # generate random colors as hex codes\n",
    "p = figure()  # create a figure\n",
    "p.scatter(\n",
    "    df.x, df.y, radius=sizes, color=colors, alpha=0.6\n",
    ")  # create a scatter plot of circles at the given x and y coordinates, with colors and an alpha\n",
    "show(p)  # show the plot"
   ]
  },
  {
   "cell_type": "code",
   "execution_count": null,
   "id": "35876ea7-7317-4178-b2af-94c45533383c",
   "metadata": {},
   "outputs": [],
   "source": [
    "colors = np.random.choice(\n",
    "    [\"red\", \"blue\", \"green\"], 100\n",
    ")  # generate random colors as named colors\n",
    "p = figure()  # create a figure\n",
    "p.scatter(\n",
    "    df.x, df.y, radius=sizes, color=colors, alpha=0.6\n",
    ")  # create a scatter plot of circles at the given x and y coordinates, with colors and an alpha\n",
    "show(p)  # show the plot"
   ]
  },
  {
   "cell_type": "markdown",
   "id": "05a6abb5-a35c-4bae-a51a-128109dc6edb",
   "metadata": {},
   "source": [
    "### Fill Color, Border Color, Hatches"
   ]
  },
  {
   "cell_type": "markdown",
   "id": "acb6854e-5c56-4b3a-aed9-0c92d361a2f9",
   "metadata": {},
   "source": [
    "We can control face colors and line colors separately, as well as apply patterned fills to glyphs."
   ]
  },
  {
   "cell_type": "code",
   "execution_count": null,
   "id": "030a9861-7a59-480b-8be1-28ba1569516b",
   "metadata": {},
   "outputs": [],
   "source": [
    "p = figure()  # create a figure\n",
    "p.scatter(  # create a scatter plot, break into multiple lines for easier reading\n",
    "    df.x,  # set the x data\n",
    "    df.y,  # set the y data\n",
    "    radius=sizes,  # set the sizes to use for the radii\n",
    "    fill_color=colors,  # set the fill color separately to our list of colors\n",
    "    line_color=\"black\",  # set the line color separately to black\n",
    "    alpha=0.6,\n",
    ")\n",
    "show(p)"
   ]
  },
  {
   "cell_type": "code",
   "execution_count": null,
   "id": "5145a364-697b-4a60-93c5-d7a94d136441",
   "metadata": {},
   "outputs": [],
   "source": [
    "p = figure()  # create a figure\n",
    "p.scatter(  # create a scatter plot, break into multiple lines for easier reading\n",
    "    df.x,  # set the x data\n",
    "    df.y,  # set the y data\n",
    "    radius=sizes,  # set the sizes to use for the radii\n",
    "    fill_color=colors,  # set the fill color separately to our list of colors\n",
    "    fill_alpha=0.6,  # set the fill alpha separately (line alpha can also be set)\n",
    "    line_color=\"black\",  # set the line color separately to black\n",
    ")\n",
    "show(p)"
   ]
  },
  {
   "cell_type": "code",
   "execution_count": null,
   "id": "36413d67-6898-43de-8766-9c7e35afde55",
   "metadata": {},
   "outputs": [],
   "source": [
    "hatches = np.random.choice(\n",
    "    [\"dot\", \"horizontal_line\", \"vertical_line\"], 100\n",
    ")  # generate random hatch patterns\n",
    "p = figure()  # create a figure\n",
    "p.scatter(  # create a scatter plot, break into multiple lines for easier reading\n",
    "    df.x,  # set the x data\n",
    "    df.y,  # set the y data\n",
    "    radius=sizes,  # set the sizes to use for the radii\n",
    "    fill_color=colors,  # set the fill color separately to our list of colors\n",
    "    fill_alpha=0.6,  # set the fill alpha separately (line alpha can also be set)\n",
    "    line_color=\"black\",  # set the line color separately to black\n",
    "    hatch_pattern=hatches,  # set the hatch patterns to our list of patterns\n",
    ")\n",
    "show(p)"
   ]
  },
  {
   "cell_type": "markdown",
   "id": "32942d7c-5f2f-48d3-980b-eed56730ea75",
   "metadata": {},
   "source": [
    "### Themes\n",
    "\n",
    "There are some preset themes to handle how our cavas is colored. We need to import a utility to access the \"document\" that `bokeh` operates on, and with that we can select a prebuilt theme. Built in themes are [documented here](https://docs.bokeh.org/en/latest/docs/reference/themes.html#bokeh-themes), with the default being `\"caliber\"`"
   ]
  },
  {
   "cell_type": "code",
   "execution_count": null,
   "id": "e504b2a1-019c-4db2-a6b6-bfb84149472b",
   "metadata": {},
   "outputs": [],
   "source": [
    "from bokeh.io import curdoc  # import utility to get the bokeh document\n",
    "\n",
    "curdoc().theme = (\n",
    "    \"night_sky\"  # set the theme to \"night_sky\" on the current document\n",
    ")\n",
    "\n",
    "p = figure()  # create a figure\n",
    "p.scatter(  # create a scatter plot, break into multiple lines for easier reading\n",
    "    df.x,  # set the x data\n",
    "    df.y,  # set the y data\n",
    "    radius=sizes,  # set the sizes to use for the radii\n",
    "    fill_color=colors,  # set the fill color separately to our list of colors\n",
    "    fill_alpha=0.6,  # set the fill alpha separately (line alpha can also be set)\n",
    "    line_color=\"black\",  # set the line color separately to black\n",
    "    hatch_pattern=hatches,  # set the hatch patterns to our list of patterns\n",
    ")\n",
    "show(p)"
   ]
  },
  {
   "cell_type": "code",
   "execution_count": null,
   "id": "d4989fe1-748e-4717-9c41-0a64aab532b6",
   "metadata": {},
   "outputs": [],
   "source": [
    "# reset the theme\n",
    "curdoc().theme = \"caliber\""
   ]
  },
  {
   "cell_type": "markdown",
   "id": "1d00c0b5-59d7-4cad-9b55-b004468dc35c",
   "metadata": {},
   "source": [
    "### Marker Types\n",
    "\n",
    "As expected we also have the ability to change the marker type."
   ]
  },
  {
   "cell_type": "code",
   "execution_count": null,
   "id": "d7d0d5c7-2129-4c10-81f6-7be88d416b53",
   "metadata": {},
   "outputs": [],
   "source": [
    "p = figure()  # create a figure\n",
    "p.scatter(  # create a scatter plot, break into multiple lines for easier reading\n",
    "    df.x,  # set the x data\n",
    "    df.y,  # set the y data\n",
    "    size=sizes,  # note the use of sizes instead of radius here!\n",
    "    fill_color=colors,  # set the fill color separately to our list of colors\n",
    "    fill_alpha=0.6,  # set the fill alpha separately (line alpha can also be set)\n",
    "    line_color=\"black\",  # set the line color separately to black\n",
    "    marker=\"square\",  # set the marker type to squares\n",
    ")\n",
    "show(p)"
   ]
  },
  {
   "cell_type": "code",
   "execution_count": null,
   "id": "d5cc9c1d-5a15-4401-a65e-0fe21aa73061",
   "metadata": {},
   "outputs": [],
   "source": [
    "markers = np.random.choice(\n",
    "    [\"diamond\", \"hex\", \"inverted_triangle\"], 100\n",
    ")  # generate random markers\n",
    "p = figure()  # create a figure\n",
    "p.scatter(  # create a scatter plot, break into multiple lines for easier reading\n",
    "    df.x,  # set the x data\n",
    "    df.y,  # set the y data\n",
    "    size=sizes,  # note the use of sizes instead of radius here!\n",
    "    fill_color=colors,  # set the fill color separately to our list of colors\n",
    "    fill_alpha=0.6,  # set the fill alpha separately (line alpha can also be set)\n",
    "    line_color=\"black\",  # set the line color separately to black\n",
    "    marker=markers,  # set the marker type to squares\n",
    ")\n",
    "show(p)"
   ]
  },
  {
   "cell_type": "markdown",
   "id": "bec4a5cd-5c17-4ef9-9500-f85d9c7ec47a",
   "metadata": {},
   "source": [
    "This should have worked! It appears we have found a bug in `bokeh`! While rare with librarie that are as popular and mature as `bokeh`, it is possible we will run into bugs! We can work around this using a `ColumnDataSource` to specify all of our options."
   ]
  },
  {
   "cell_type": "code",
   "execution_count": null,
   "id": "4e5cc8b1-da63-46ae-a16c-bbf95fb491c9",
   "metadata": {},
   "outputs": [],
   "source": [
    "df2 = df.copy()  # copy our old data frame\n",
    "df2[\"size\"] = 10  # add a size column with constant value\n",
    "df2[\"color\"] = colors  # set the colors\n",
    "df2[\"marker\"] = markers  # set the marker\n",
    "\n",
    "source = ColumnDataSource(data=df2)  # create a column data source\n",
    "\n",
    "p = figure()  # create a figure\n",
    "p.scatter(  # create a scatter plot, break into multiple lines for easier reading\n",
    "    x=\"x\",  # specify which column to use for the x data\n",
    "    y=\"y\",  # specify which column to use for the y data\n",
    "    size=\"size\",  # specify which column to use for the marker size\n",
    "    color=\"color\",  # specify which column to use for the marker color\n",
    "    marker=\"marker\",  # specify which column to use for the marker type\n",
    "    source=source,  # specify the column data source to visualize\n",
    ")\n",
    "show(p)"
   ]
  },
  {
   "cell_type": "markdown",
   "id": "ef41e0fc-00d5-4d77-99e4-47e04c83adc5",
   "metadata": {},
   "source": [
    "The set of markers available through `bokeh` can be [found here](https://docs.bokeh.org/en/latest/docs/reference/models/glyphs/scatter.html#scatter)"
   ]
  },
  {
   "cell_type": "markdown",
   "id": "29d550ce-6889-4bf1-b022-00f07d88821e",
   "metadata": {},
   "source": [
    "### Plot Types\n",
    "\n",
    "And of course, we have many different plot types readily available to us. We will not cover them here, but will instead explore them as we need to. We have the basics covered though, and even have a few more highly convenient plotting methods.\n",
    "\n",
    "* scatter\n",
    "* line (methods for single, multi, stacked, step, and more) \n",
    "* bar (vertical, horizontal)\n",
    "* hexb tiling\n",
    "* polygons, patches, ellipses, wedges, and more\n"
   ]
  }
 ],
 "metadata": {
  "kernelspec": {
   "display_name": "Python 3 (ipykernel)",
   "language": "python",
   "name": "python3"
  },
  "language_info": {
   "codemirror_mode": {
    "name": "ipython",
    "version": 3
   },
   "file_extension": ".py",
   "mimetype": "text/x-python",
   "name": "python",
   "nbconvert_exporter": "python",
   "pygments_lexer": "ipython3",
   "version": "3.9.7"
  }
 },
 "nbformat": 4,
 "nbformat_minor": 5
}
