{
 "cells": [
  {
   "cell_type": "markdown",
   "id": "c31d992b-f494-4e97-8276-be792ed11c98",
   "metadata": {},
   "source": [
    "# Mandelbrot Set\n",
    "\n",
    "This notebook provides an interactive look into the Mandelbrot Set. Here we provide a basic implementation to compute the set given bounds, number of steps, and a max iterations."
   ]
  },
  {
   "cell_type": "markdown",
   "id": "631c2609-042a-400e-b2ec-4bd82783f99f",
   "metadata": {},
   "source": [
    "## Defining Functions\n",
    "\n",
    "Below we implement a few functions for computing the Mandelbrot Set. The first set of functions below is a straight forward implementation; we provide it to illustrate how it all works."
   ]
  },
  {
   "cell_type": "code",
   "execution_count": null,
   "id": "9f2a6548-e50e-4819-8499-837565bd5746",
   "metadata": {},
   "outputs": [],
   "source": [
    "def mandelbrot(c, max_iterations):\n",
    "    z = 0.0j\n",
    "    iterations = 0\n",
    "    while abs(z) < 2.0 and iterations < max_iterations:\n",
    "        z = z**2 + c\n",
    "        iterations += 1\n",
    "    return iterations\n",
    "\n",
    "def compute(x_min, x_max, y_min, y_max, steps, max_iterations):\n",
    "    step = (x_max - x_min) / steps\n",
    "    data = [[None]*steps for _y in range(steps)]\n",
    "    for yidx in range(steps):\n",
    "        for xidx in range(steps):\n",
    "            data[yidx][xidx] = mandelbrot(complex(x_min + xidx * step, y_min + yidx * step), max_iterations)\n",
    "    return data"
   ]
  },
  {
   "cell_type": "markdown",
   "id": "1a5cb79a-5a96-4b36-927b-04d3eaee827f",
   "metadata": {},
   "source": [
    "Here we also provide a vectorized implementation for improved performance. We use a tool called `numba` that takes our functions and optimizes them so that they can be applied to entire arrays of data. We then rewrite our compute function to work with our special vectorized function."
   ]
  },
  {
   "cell_type": "code",
   "execution_count": null,
   "id": "9221634c-695a-4bbc-8650-2b779087eafd",
   "metadata": {},
   "outputs": [],
   "source": [
    "import numba as nb\n",
    "import numpy as np\n",
    "\n",
    "vmandelbrot = nb.vectorize(mandelbrot)\n",
    "\n",
    "def vcompute(x_min, x_max, y_min, y_max, steps, max_iterations):\n",
    "    step = (x_max - x_min) / steps\n",
    "    dx, dy = np.indices((steps, steps))\n",
    "    dx = x_min + step * dx\n",
    "    dy = y_min + step * dy\n",
    "    \n",
    "    data = np.array(np.vectorize(complex)(dx.T, dy.T))\n",
    "    \n",
    "    return vmandelbrot(data, max_iterations)"
   ]
  },
  {
   "cell_type": "markdown",
   "id": "733138fa-1b01-4055-bd28-2eec13be79a1",
   "metadata": {},
   "source": [
    "## Testing Our Functions\n",
    "\n",
    "The Mandelbrot Set is roughly bounded by the square with vertices (-2.0, -1.25), (0.5, -1.25), (0.5, 1.25), (-2.0, 1.25), so we will use this to generate a high level view. First let's set up a few variables and compute our first Mandelbrot Set."
   ]
  },
  {
   "cell_type": "code",
   "execution_count": null,
   "id": "3fb04b94-7c0a-469d-b903-de4fa40095a9",
   "metadata": {},
   "outputs": [],
   "source": [
    "x_min = -2.0\n",
    "x_max = 0.5\n",
    "y_min = -1.25\n",
    "y_max = 1.25\n",
    "steps = 100\n",
    "max_iterations = 100\n",
    "\n",
    "ms = vcompute(x_min, x_max, y_min, y_max, steps, max_iterations)\n",
    "ms"
   ]
  },
  {
   "cell_type": "markdown",
   "id": "098bd4f6-92a3-4a07-8158-8f56bdde181f",
   "metadata": {},
   "source": [
    "Well thats not very exciting? We need to actually visualize it! Let's take a step back and reduce the number of steps from 100 to 10 (just temporarily)."
   ]
  },
  {
   "cell_type": "code",
   "execution_count": null,
   "id": "a39ce4dc-9655-43a0-9b80-131a52100dab",
   "metadata": {},
   "outputs": [],
   "source": [
    "ms = vcompute(x_min, x_max, y_min, y_max, 10, max_iterations)\n",
    "ms"
   ]
  },
  {
   "cell_type": "markdown",
   "id": "351c5f9a-baba-4a4c-a47e-aef55ecf991f",
   "metadata": {},
   "source": [
    "### First Image\n",
    "\n",
    "What we actually have here is image-data! Each element represents a pixel, and each value of each element represents a different color. But 1, 2, 3, etc. are clearly not colors. What we have is something that is actually a heatmap! Let's recompute with the larger number of steps and use bokeh to produce the heatmap as an image."
   ]
  },
  {
   "cell_type": "code",
   "execution_count": null,
   "id": "70da6a18-9536-4de3-8503-d80a98eeb1c1",
   "metadata": {},
   "outputs": [],
   "source": [
    "from bokeh.io import output_notebook, show         # import tools for showing in a Jupyter notebook\n",
    "from bokeh.models import ColumnDataSource, Range1d # import structures for data sources and ranges\n",
    "from bokeh.plotting import figure                  # import bokeh figures\n",
    "\n",
    "output_notebook()                                  # tell bokeh to prepare itself for use within a Jupyter notebook\n",
    "\n",
    "# recompute the set\n",
    "ms = vcompute(x_min, x_max, y_min, y_max, steps, max_iterations)\n",
    "\n",
    "fig = figure()                   # create a bokeh figure\n",
    "source = ColumnDataSource(data={ # create a column data source to bridge the data and the figure\n",
    "    'image': [ms],               # set the pixel data\n",
    "    'x': [x_min],                # set the lower left corner anchor\n",
    "    'y': [y_min],                # set the lower left corner anchor\n",
    "    'dw': [x_max-x_min],         # set the width-dimension\n",
    "    'dh': [y_max-y_min],         # set the height-dimension\n",
    "})\n",
    "\n",
    "fig.image(image='image', x='x', y='y', dw='dw', dh='dh', palette='Spectral11', source=source) # generate the image\n",
    "fig.x_range = Range1d(x_min, x_max)                                                           # fix the x-axis\n",
    "fig.y_range = Range1d(y_min, y_max)                                                           # fix the y-axis\n",
    "\n",
    "show(fig)"
   ]
  },
  {
   "cell_type": "markdown",
   "id": "9c6b280f-aa8f-490c-a641-fb97165e7fbd",
   "metadata": {},
   "source": [
    "We can up the number of steps to get more detail, which should improve the experience of zooming."
   ]
  },
  {
   "cell_type": "code",
   "execution_count": null,
   "id": "fa793d9c-4b98-4bd0-b3ac-074b43ea7693",
   "metadata": {},
   "outputs": [],
   "source": [
    "steps = 1000\n",
    "ms = vcompute(x_min, x_max, y_min, y_max, steps, max_iterations)\n",
    "ms\n",
    "\n",
    "source.data = {\n",
    "    'image': [ms],\n",
    "    'x': [x_min],\n",
    "    'y': [y_min],\n",
    "    'dw': [x_max-x_min],\n",
    "    'dh': [y_max-y_min],\n",
    "}\n",
    "show(fig)"
   ]
  },
  {
   "cell_type": "markdown",
   "id": "cc13aa26-0f43-4c79-b658-1f0d903b05c4",
   "metadata": {},
   "source": [
    "## Initial Dashboard\n",
    "\n",
    "As we increase the number of steps we take we are ultimately increasing the resolution of our image. This is why we can zoom in a bit more and see more detail. It is impractical however to continually render larger resolutions so that we can dive deeper. We want to configure our plot to recompute itself as we zoom in. That way we can work with a fixed resolution, but change the region over which we operate. This will give us an effect of being able to zoom infinitely.\n",
    "\n",
    "This is not easy to set up though. What we are ultimately trying to do is trigger a computation anytime the user zooms or pans. We also want to provide controls for the numbers of steps (resolution) and the maximum iterations (which controls the color spread)."
   ]
  },
  {
   "cell_type": "code",
   "execution_count": null,
   "id": "2a69ace1-8b97-44a6-81be-3dda590c295e",
   "metadata": {},
   "outputs": [],
   "source": [
    "import panel as pn\n",
    "pn.extension()\n",
    "\n",
    "steps_slider = pn.widgets.IntSlider(name='Steps', start=1, end=1000, step=1, value=50)              # control steps (image resolution)\n",
    "max_iterations_radio = pn.widgets.RadioButtonGroup(name='Max Iterations', options=[100, 500, 1000]) # control max iterations (color spread)\n",
    "\n",
    "# create a few disabled text widgets for displaying data\n",
    "# by disabling them we can prorammatically update them and\n",
    "# prevent the user from updating them.\n",
    "x_min_text = pn.widgets.TextInput(name='x-min', value='-2.0', disabled=True)\n",
    "x_max_text = pn.widgets.TextInput(name='x-max', value='0.5', disabled=True)\n",
    "y_min_text = pn.widgets.TextInput(name='y-min', value='-1.25', disabled=True)\n",
    "y_max_text = pn.widgets.TextInput(name='y-max', value='1.25', disabled=True)\n",
    "\n",
    "# create an empty Column Data Source (CDS)\n",
    "source = ColumnDataSource(data={\n",
    "    'image': [],\n",
    "    'x': [],\n",
    "    'y': [],\n",
    "    'dw': [],\n",
    "    'dh': [],\n",
    "})\n",
    "\n",
    "\n",
    "# create the figure and the image, mapping from the CDS\n",
    "fig = figure()\n",
    "fig.image(image='image', x='x', y='y', dw='dw', dh='dh', palette='Spectral11', source=source)\n",
    "\n",
    "# write a function that recomputes the set and update the CDS\n",
    "def visualize_mandelbrot(steps, max_iterations):\n",
    "    x_min = float(x_min_text.value)\n",
    "    x_max = float(x_max_text.value)\n",
    "    y_min = float(y_min_text.value)\n",
    "    y_max = float(y_max_text.value)\n",
    "\n",
    "    # compute the new set\n",
    "    ms = vcompute(x_min, x_max, y_min, y_max, steps, max_iterations)\n",
    "    \n",
    "    # update the CDS\n",
    "    source.data = {\n",
    "        'image': [ms],\n",
    "        'x': [x_min],\n",
    "        'y': [y_min],\n",
    "        'dw': [x_max-x_min],\n",
    "        'dh': [y_max-y_min],\n",
    "    }\n",
    "    \n",
    "    # ensure the ranges are set properly\n",
    "    fig.x_range=Range1d(x_min, x_max)\n",
    "    fig.y_range=Range1d(y_min, y_max)\n",
    "    \n",
    "    # return the existing figure, so that panel knows what to update with\n",
    "    return fig\n",
    "\n",
    "interaction = pn.interact(visualize_mandelbrot, steps=steps_slider, max_iterations=max_iterations_radio)\n",
    "interaction"
   ]
  },
  {
   "cell_type": "markdown",
   "id": "de3f04e2-4ea8-429b-8cd9-ca178e1f08f3",
   "metadata": {},
   "source": [
    "## Micro-Dashboard\n",
    "\n",
    "Below we expand upon the autogenerated `panel` layout."
   ]
  },
  {
   "cell_type": "code",
   "execution_count": null,
   "id": "3bd75b7c-ec74-42a7-9a98-c4d37484ccfa",
   "metadata": {},
   "outputs": [],
   "source": [
    "from bokeh import events\n",
    "\n",
    "steps_slider = pn.widgets.IntSlider(name='Steps', start=1, end=1000, step=1, value=50)\n",
    "max_iterations_radio = pn.widgets.RadioButtonGroup(name='Max Iterations', options=[100, 500, 1000])\n",
    "reset = pn.widgets.Button(name='Reset', )\n",
    "\n",
    "x_min_text = pn.widgets.TextInput(name='x-min', value='-2.0', disabled=True)\n",
    "x_max_text = pn.widgets.TextInput(name='x-max', value='0.5', disabled=True)\n",
    "y_min_text = pn.widgets.TextInput(name='y-min', value='-1.25', disabled=True)\n",
    "y_max_text = pn.widgets.TextInput(name='y-max', value='1.25', disabled=True)\n",
    "\n",
    "\n",
    "def visualize_mandelbrot(steps, max_iterations):\n",
    "    x_min = float(x_min_text.value)\n",
    "    x_max = float(x_max_text.value)\n",
    "    y_min = float(y_min_text.value)\n",
    "    y_max = float(y_max_text.value)\n",
    "    \n",
    "    ms = vcompute(x_min, x_max, y_min, y_max, steps, max_iterations)\n",
    "    \n",
    "    source = ColumnDataSource(data={\n",
    "        'image': [ms],\n",
    "        'x': [x_min],\n",
    "        'y': [y_min],\n",
    "        'dw': [x_max-x_min],\n",
    "        'dh': [y_max-y_min],\n",
    "    })\n",
    "    fig = figure(active_scroll='wheel_zoom')\n",
    "    fig.image(image='image', x='x', y='y', dw='dw', dh='dh', palette='Spectral11', source=source)\n",
    "\n",
    "    fig.x_range=Range1d(x_min, x_max)\n",
    "    fig.y_range=Range1d(y_min, y_max)\n",
    "    \n",
    "    fig.x_range.reset_start = -2.0\n",
    "    fig.x_range.reset_end = 0.5\n",
    "    fig.y_range.reset_start = -1.25\n",
    "    fig.y_range.reset_end = 1.25\n",
    "    \n",
    "    def lod_callback(*args):\n",
    "        x_min_text.value = str(fig.x_range.start)\n",
    "        x_max_text.value = str(fig.x_range.end)\n",
    "        y_min_text.value = str(fig.y_range.start)\n",
    "        y_max_text.value = str(fig.y_range.end)\n",
    "        lod_ms = vcompute(fig.x_range.start, fig.x_range.end, fig.y_range.start, fig.y_range.end, steps_slider.value, max_iterations_radio.value)\n",
    "        source.data = {\n",
    "            'image': [lod_ms],\n",
    "            'x': [fig.x_range.start],\n",
    "            'y': [fig.y_range.start],\n",
    "            'dw': [fig.x_range.end-fig.x_range.start],\n",
    "            'dh': [fig.y_range.end-fig.y_range.start],\n",
    "        }\n",
    "\n",
    "    fig.on_event(events.LODEnd, lod_callback)\n",
    "    fig.on_event(events.Reset, lod_callback)\n",
    "\n",
    "    return fig\n",
    "\n",
    "interaction = pn.interact(visualize_mandelbrot, steps=steps_slider, max_iterations=max_iterations_radio, throttled=True)\n",
    "\n",
    "header = '''# Basic Mandelbrot Set Explorer\n",
    "\n",
    "This is a basic Mandelbrot Set explorer. We can dive deep into the set and control the resolution of our image\n",
    "\n",
    "'''\n",
    "\n",
    "layout = pn.Column(\n",
    "    pn.pane.Markdown(header),\n",
    "    pn.Row(\n",
    "        pn.Column(x_min_text,x_max_text,y_min_text,y_max_text, *interaction[0]),\n",
    "        interaction[1][0]\n",
    "    )\n",
    ")\n",
    "layout"
   ]
  }
 ],
 "metadata": {
  "kernelspec": {
   "display_name": "Python 3 (ipykernel)",
   "language": "python",
   "name": "python3"
  },
  "language_info": {
   "codemirror_mode": {
    "name": "ipython",
    "version": 3
   },
   "file_extension": ".py",
   "mimetype": "text/x-python",
   "name": "python",
   "nbconvert_exporter": "python",
   "pygments_lexer": "ipython3",
   "version": "3.9.7"
  }
 },
 "nbformat": 4,
 "nbformat_minor": 5
}
